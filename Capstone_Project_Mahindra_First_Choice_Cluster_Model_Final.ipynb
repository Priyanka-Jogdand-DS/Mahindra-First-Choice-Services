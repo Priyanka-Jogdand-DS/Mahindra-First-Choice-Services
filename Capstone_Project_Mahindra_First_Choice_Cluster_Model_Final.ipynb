{
 "cells": [
  {
   "cell_type": "markdown",
   "metadata": {},
   "source": [
    "# Capstone Problem Statement "
   ]
  },
  {
   "cell_type": "markdown",
   "metadata": {},
   "source": [
    "## Introduction \n",
    "Mahindra First Choice Services (MFCS) is a company of Mahindra Group and is India’s leading               chain of multi-brand car workshops with over 335+ workshops present in 267+ towns & 24               states. It has serviced over 10,50,000 cars. The company aims to establish countrywide network              of over 400 workshops by March 2018. \n",
    " \n",
    "Mahindra would now like to leverage the data that they have and address the key issues they                 have. Read along to know how you can help them improve their business.  \n",
    " \n",
    "The dataset consist of three aspects: \n",
    "1. Customer data: where the details of the customer like the car owned, state and place               of residence, order type, etc are present. Data dimension is of ​534000 Customer entries \n",
    "2. Invoice data: ​where information related to customer visits and transactions are           recorded, whether a customer as insurance claims,​bifurcation of the amount paid, for             what type of service did the customer came for, etc…  \n",
    "3. Material Inventory: where information related to what kind of service did the            customer took and what kind of material was used to service, Labor information             and the cost for the service, Plant and plant name where the customer took the               service.  \n",
    "\n",
    "## Problem Statement-1\n",
    "Identifying the ownership pattern of cars throughout the country. This also captures the problem wherein information regarding the spending patterns can be identified \n",
    "### Expected Business Outcome: \n",
    "Mahindra First Choice Services will be benefited in multiple ways. Knowing the ownership pattern targeted marketing campaigns could be carried out. Knowing the spending patterns services could be suited to the particular spending pattern.\n",
    "\n",
    "## Approach \n",
    " \n",
    "You should perform the following activities \n",
    "    1. Cleaning the data \n",
    "    2. Processing and preparing the data for further analysis \n",
    "    3. Analyzing data through various visual tools \n",
    "    4. Building Predictive Models \n",
    "### Data Cleaning \n",
    "In this process, you can \n",
    "\n",
    "● Come up with effective measures to handle large volume data.  \n",
    "\n",
    "● Impute the missing values. \n",
    "\n",
    "● Encode the categorical variables. \n",
    "### Data Processing  \n",
    "● Preparing the data by tagging geolocation with positions.\n",
    "\n",
    "● Deriving Relevant features from multiple tables.  \n",
    "\n",
    "● Aggregating information for each state for countrywide analysis eg. number of Maruti Cars in each state etc. \n",
    " "
   ]
  },
  {
   "cell_type": "code",
   "execution_count": 92,
   "metadata": {},
   "outputs": [],
   "source": [
    "import numpy as np \n",
    "import pandas as pd\n",
    "import matplotlib.pyplot as plt\n",
    "import seaborn as sns\n",
    "import missingno\n",
    "\n",
    "\n",
    "from datetime import datetime, timedelta,date\n",
    "\n",
    "from sklearn.model_selection import train_test_split\n",
    "from sklearn.cluster import KMeans\n",
    "from sklearn.ensemble import RandomForestRegressor\n",
    "from sklearn.feature_extraction import FeatureHasher\n",
    "from statsmodels.tools.eval_measures import rmse\n",
    "\n",
    "pd.set_option('display.max_columns', None)\n",
    "pd.set_option('display.max_rows', None)"
   ]
  },
  {
   "cell_type": "markdown",
   "metadata": {},
   "source": [
    "## Reading the file"
   ]
  },
  {
   "cell_type": "code",
   "execution_count": 93,
   "metadata": {},
   "outputs": [
    {
     "name": "stderr",
     "output_type": "stream",
     "text": [
      "C:\\Users\\Priyanka\\Anaconda3\\lib\\site-packages\\IPython\\core\\interactiveshell.py:3058: DtypeWarning: Columns (9,10,14,15,21,41,51) have mixed types. Specify dtype option on import or set low_memory=False.\n",
      "  interactivity=interactivity, compiler=compiler, result=result)\n"
     ]
    }
   ],
   "source": [
    "#df_cust_data = pd.read_csv('Customer_Data.csv')\n",
    "#df_plant = pd.read_excel('Plant_Master.xlsx')\n",
    "final_inv_data = pd.read_csv('Final_invoice.csv')"
   ]
  },
  {
   "cell_type": "code",
   "execution_count": 94,
   "metadata": {},
   "outputs": [
    {
     "data": {
      "text/plain": [
       "(492314, 59)"
      ]
     },
     "execution_count": 94,
     "metadata": {},
     "output_type": "execute_result"
    }
   ],
   "source": [
    "final_inv_data.shape"
   ]
  },
  {
   "cell_type": "code",
   "execution_count": 95,
   "metadata": {},
   "outputs": [
    {
     "data": {
      "text/plain": [
       "Index(['Unnamed: 0', 'Amt Rcvd From Custom', 'Amt Rcvd From Ins Co',\n",
       "       'Area / Locality', 'CGST(14%)', 'CGST(2.5%)', 'CGST(6%)', 'CGST(9%)',\n",
       "       'CITY', 'Cash /Cashless Type', 'Claim No.', 'Cust Type', 'Customer No.',\n",
       "       'District', 'Expiry Date', 'Gate Pass Date', 'Gate Pass Time',\n",
       "       'IGST(12%)', 'IGST(18%)', 'IGST(28%)', 'IGST(5%)', 'Insurance Company',\n",
       "       'Invoice Date', 'Invoice No', 'Invoice Time', 'Job Card No',\n",
       "       'JobCard Date', 'JobCard Time', 'KMs Reading', 'Labour Total', 'Make',\n",
       "       'Misc Total', 'Model', 'ODN No.', 'OSL Total', 'Order Type',\n",
       "       'Outstanding Amt', 'Parts Total', 'Pin code', 'Plant', 'Plant Name1',\n",
       "       'Policy no.', 'Print Status', 'Recovrbl Exp', 'Regn No',\n",
       "       'SGST/UGST(14%)', 'SGST/UGST(2.5%)', 'SGST/UGST(6%)', 'SGST/UGST(9%)',\n",
       "       'Service Advisor Name', 'TDS amount', 'Technician Name',\n",
       "       'Total Amt Wtd Tax.', 'Total CGST', 'Total GST', 'Total IGST',\n",
       "       'Total SGST/UGST', 'Total Value', 'User ID'],\n",
       "      dtype='object')"
      ]
     },
     "execution_count": 95,
     "metadata": {},
     "output_type": "execute_result"
    }
   ],
   "source": [
    "final_inv_data.columns"
   ]
  },
  {
   "cell_type": "code",
   "execution_count": 96,
   "metadata": {},
   "outputs": [
    {
     "data": {
      "text/html": [
       "<div>\n",
       "<style scoped>\n",
       "    .dataframe tbody tr th:only-of-type {\n",
       "        vertical-align: middle;\n",
       "    }\n",
       "\n",
       "    .dataframe tbody tr th {\n",
       "        vertical-align: top;\n",
       "    }\n",
       "\n",
       "    .dataframe thead th {\n",
       "        text-align: right;\n",
       "    }\n",
       "</style>\n",
       "<table border=\"1\" class=\"dataframe\">\n",
       "  <thead>\n",
       "    <tr style=\"text-align: right;\">\n",
       "      <th></th>\n",
       "      <th>Cust Type</th>\n",
       "      <th>Customer No.</th>\n",
       "      <th>District</th>\n",
       "      <th>JobCard Date</th>\n",
       "      <th>KMs Reading</th>\n",
       "      <th>Make</th>\n",
       "      <th>Model</th>\n",
       "      <th>Order Type</th>\n",
       "      <th>Plant</th>\n",
       "      <th>Total Amt Wtd Tax.</th>\n",
       "    </tr>\n",
       "  </thead>\n",
       "  <tbody>\n",
       "    <tr>\n",
       "      <td>0</td>\n",
       "      <td>Retail</td>\n",
       "      <td>67849</td>\n",
       "      <td>Maharashtra</td>\n",
       "      <td>13/12/2014</td>\n",
       "      <td>49317</td>\n",
       "      <td>GENERAL MOTORS</td>\n",
       "      <td>SPARK</td>\n",
       "      <td>Paid Service</td>\n",
       "      <td>BC01</td>\n",
       "      <td>4051.95</td>\n",
       "    </tr>\n",
       "    <tr>\n",
       "      <td>1</td>\n",
       "      <td>Retail</td>\n",
       "      <td>84419</td>\n",
       "      <td>Maharashtra</td>\n",
       "      <td>02/01/2015</td>\n",
       "      <td>78584</td>\n",
       "      <td>TATA MOTORS</td>\n",
       "      <td>INDICA</td>\n",
       "      <td>SMC Value Package</td>\n",
       "      <td>BC01</td>\n",
       "      <td>1001.29</td>\n",
       "    </tr>\n",
       "    <tr>\n",
       "      <td>2</td>\n",
       "      <td>Retail</td>\n",
       "      <td>81055</td>\n",
       "      <td>Maharashtra</td>\n",
       "      <td>02/01/2015</td>\n",
       "      <td>33985</td>\n",
       "      <td>MARUTI SUZUKI</td>\n",
       "      <td>ZEN</td>\n",
       "      <td>Running Repairs</td>\n",
       "      <td>BC01</td>\n",
       "      <td>233.14</td>\n",
       "    </tr>\n",
       "    <tr>\n",
       "      <td>3</td>\n",
       "      <td>Retail</td>\n",
       "      <td>84419</td>\n",
       "      <td>Maharashtra</td>\n",
       "      <td>03/01/2015</td>\n",
       "      <td>78584</td>\n",
       "      <td>TATA MOTORS</td>\n",
       "      <td>INDICA</td>\n",
       "      <td>SMC Redemption</td>\n",
       "      <td>BC01</td>\n",
       "      <td>0.00</td>\n",
       "    </tr>\n",
       "    <tr>\n",
       "      <td>4</td>\n",
       "      <td>Retail</td>\n",
       "      <td>18980</td>\n",
       "      <td>Maharashtra</td>\n",
       "      <td>02/01/2015</td>\n",
       "      <td>50057</td>\n",
       "      <td>HYUNDAI</td>\n",
       "      <td>SANTRO XING</td>\n",
       "      <td>Paid Service</td>\n",
       "      <td>BC01</td>\n",
       "      <td>2747.12</td>\n",
       "    </tr>\n",
       "  </tbody>\n",
       "</table>\n",
       "</div>"
      ],
      "text/plain": [
       "  Cust Type Customer No.     District JobCard Date  KMs Reading  \\\n",
       "0    Retail        67849  Maharashtra   13/12/2014        49317   \n",
       "1    Retail        84419  Maharashtra   02/01/2015        78584   \n",
       "2    Retail        81055  Maharashtra   02/01/2015        33985   \n",
       "3    Retail        84419  Maharashtra   03/01/2015        78584   \n",
       "4    Retail        18980  Maharashtra   02/01/2015        50057   \n",
       "\n",
       "             Make        Model         Order Type Plant  Total Amt Wtd Tax.  \n",
       "0  GENERAL MOTORS        SPARK       Paid Service  BC01             4051.95  \n",
       "1     TATA MOTORS       INDICA  SMC Value Package  BC01             1001.29  \n",
       "2   MARUTI SUZUKI          ZEN    Running Repairs  BC01              233.14  \n",
       "3     TATA MOTORS       INDICA     SMC Redemption  BC01                0.00  \n",
       "4         HYUNDAI  SANTRO XING       Paid Service  BC01             2747.12  "
      ]
     },
     "execution_count": 96,
     "metadata": {},
     "output_type": "execute_result"
    }
   ],
   "source": [
    "final_inv_data_final = final_inv_data[['Cust Type','Customer No.','District','JobCard Date','KMs Reading','Make','Model','Order Type','Plant','Total Amt Wtd Tax.']].copy()\n",
    "final_inv_data_final.head()"
   ]
  },
  {
   "cell_type": "code",
   "execution_count": 97,
   "metadata": {},
   "outputs": [
    {
     "data": {
      "text/plain": [
       "(492314, 10)"
      ]
     },
     "execution_count": 97,
     "metadata": {},
     "output_type": "execute_result"
    }
   ],
   "source": [
    "final_inv_data_final.shape"
   ]
  },
  {
   "cell_type": "code",
   "execution_count": 98,
   "metadata": {},
   "outputs": [],
   "source": [
    "# Define Utiliy Functions\n",
    "def data_insights_report(data=pd.DataFrame()):\n",
    "    report = pd.DataFrame()\n",
    "    report['Columns'] = data.columns\n",
    "    report['Data_Types'] = data.dtypes.values\n",
    "    report['Unique_Count'] = data.nunique().values\n",
    "    report['NAN_Count'] = data.isna().sum().values\n",
    "\n",
    "    tempdf = data.describe().apply(lambda x: round(x,2), axis=1).T\n",
    "    pd.merge(report,tempdf.reset_index().rename(columns={'index':'Columns'}), on='Columns')\n",
    "\n",
    "    return report.join(tempdf, on='Columns')"
   ]
  },
  {
   "cell_type": "code",
   "execution_count": 99,
   "metadata": {},
   "outputs": [
    {
     "data": {
      "text/html": [
       "<div>\n",
       "<style scoped>\n",
       "    .dataframe tbody tr th:only-of-type {\n",
       "        vertical-align: middle;\n",
       "    }\n",
       "\n",
       "    .dataframe tbody tr th {\n",
       "        vertical-align: top;\n",
       "    }\n",
       "\n",
       "    .dataframe thead th {\n",
       "        text-align: right;\n",
       "    }\n",
       "</style>\n",
       "<table border=\"1\" class=\"dataframe\">\n",
       "  <thead>\n",
       "    <tr style=\"text-align: right;\">\n",
       "      <th></th>\n",
       "      <th>Columns</th>\n",
       "      <th>Data_Types</th>\n",
       "      <th>Unique_Count</th>\n",
       "      <th>NAN_Count</th>\n",
       "      <th>count</th>\n",
       "      <th>mean</th>\n",
       "      <th>std</th>\n",
       "      <th>min</th>\n",
       "      <th>25%</th>\n",
       "      <th>50%</th>\n",
       "      <th>75%</th>\n",
       "      <th>max</th>\n",
       "    </tr>\n",
       "  </thead>\n",
       "  <tbody>\n",
       "    <tr>\n",
       "      <td>0</td>\n",
       "      <td>Cust Type</td>\n",
       "      <td>object</td>\n",
       "      <td>7</td>\n",
       "      <td>0</td>\n",
       "      <td>NaN</td>\n",
       "      <td>NaN</td>\n",
       "      <td>NaN</td>\n",
       "      <td>NaN</td>\n",
       "      <td>NaN</td>\n",
       "      <td>NaN</td>\n",
       "      <td>NaN</td>\n",
       "      <td>NaN</td>\n",
       "    </tr>\n",
       "    <tr>\n",
       "      <td>1</td>\n",
       "      <td>Customer No.</td>\n",
       "      <td>object</td>\n",
       "      <td>253484</td>\n",
       "      <td>0</td>\n",
       "      <td>NaN</td>\n",
       "      <td>NaN</td>\n",
       "      <td>NaN</td>\n",
       "      <td>NaN</td>\n",
       "      <td>NaN</td>\n",
       "      <td>NaN</td>\n",
       "      <td>NaN</td>\n",
       "      <td>NaN</td>\n",
       "    </tr>\n",
       "    <tr>\n",
       "      <td>2</td>\n",
       "      <td>District</td>\n",
       "      <td>object</td>\n",
       "      <td>36</td>\n",
       "      <td>0</td>\n",
       "      <td>NaN</td>\n",
       "      <td>NaN</td>\n",
       "      <td>NaN</td>\n",
       "      <td>NaN</td>\n",
       "      <td>NaN</td>\n",
       "      <td>NaN</td>\n",
       "      <td>NaN</td>\n",
       "      <td>NaN</td>\n",
       "    </tr>\n",
       "    <tr>\n",
       "      <td>3</td>\n",
       "      <td>JobCard Date</td>\n",
       "      <td>object</td>\n",
       "      <td>1643</td>\n",
       "      <td>0</td>\n",
       "      <td>NaN</td>\n",
       "      <td>NaN</td>\n",
       "      <td>NaN</td>\n",
       "      <td>NaN</td>\n",
       "      <td>NaN</td>\n",
       "      <td>NaN</td>\n",
       "      <td>NaN</td>\n",
       "      <td>NaN</td>\n",
       "    </tr>\n",
       "    <tr>\n",
       "      <td>4</td>\n",
       "      <td>KMs Reading</td>\n",
       "      <td>int64</td>\n",
       "      <td>159473</td>\n",
       "      <td>0</td>\n",
       "      <td>492314.0</td>\n",
       "      <td>77577.03</td>\n",
       "      <td>116888.17</td>\n",
       "      <td>0.0</td>\n",
       "      <td>34096.25</td>\n",
       "      <td>60078.50</td>\n",
       "      <td>93769.00</td>\n",
       "      <td>9999999.00</td>\n",
       "    </tr>\n",
       "    <tr>\n",
       "      <td>5</td>\n",
       "      <td>Make</td>\n",
       "      <td>object</td>\n",
       "      <td>28</td>\n",
       "      <td>0</td>\n",
       "      <td>NaN</td>\n",
       "      <td>NaN</td>\n",
       "      <td>NaN</td>\n",
       "      <td>NaN</td>\n",
       "      <td>NaN</td>\n",
       "      <td>NaN</td>\n",
       "      <td>NaN</td>\n",
       "      <td>NaN</td>\n",
       "    </tr>\n",
       "    <tr>\n",
       "      <td>6</td>\n",
       "      <td>Model</td>\n",
       "      <td>object</td>\n",
       "      <td>245</td>\n",
       "      <td>1525</td>\n",
       "      <td>NaN</td>\n",
       "      <td>NaN</td>\n",
       "      <td>NaN</td>\n",
       "      <td>NaN</td>\n",
       "      <td>NaN</td>\n",
       "      <td>NaN</td>\n",
       "      <td>NaN</td>\n",
       "      <td>NaN</td>\n",
       "    </tr>\n",
       "    <tr>\n",
       "      <td>7</td>\n",
       "      <td>Order Type</td>\n",
       "      <td>object</td>\n",
       "      <td>9</td>\n",
       "      <td>0</td>\n",
       "      <td>NaN</td>\n",
       "      <td>NaN</td>\n",
       "      <td>NaN</td>\n",
       "      <td>NaN</td>\n",
       "      <td>NaN</td>\n",
       "      <td>NaN</td>\n",
       "      <td>NaN</td>\n",
       "      <td>NaN</td>\n",
       "    </tr>\n",
       "    <tr>\n",
       "      <td>8</td>\n",
       "      <td>Plant</td>\n",
       "      <td>object</td>\n",
       "      <td>242</td>\n",
       "      <td>0</td>\n",
       "      <td>NaN</td>\n",
       "      <td>NaN</td>\n",
       "      <td>NaN</td>\n",
       "      <td>NaN</td>\n",
       "      <td>NaN</td>\n",
       "      <td>NaN</td>\n",
       "      <td>NaN</td>\n",
       "      <td>NaN</td>\n",
       "    </tr>\n",
       "    <tr>\n",
       "      <td>9</td>\n",
       "      <td>Total Amt Wtd Tax.</td>\n",
       "      <td>float64</td>\n",
       "      <td>258071</td>\n",
       "      <td>0</td>\n",
       "      <td>492314.0</td>\n",
       "      <td>4394.98</td>\n",
       "      <td>11080.90</td>\n",
       "      <td>-137.0</td>\n",
       "      <td>299.04</td>\n",
       "      <td>1452.82</td>\n",
       "      <td>4409.92</td>\n",
       "      <td>648203.49</td>\n",
       "    </tr>\n",
       "  </tbody>\n",
       "</table>\n",
       "</div>"
      ],
      "text/plain": [
       "              Columns Data_Types  Unique_Count  NAN_Count     count      mean  \\\n",
       "0           Cust Type     object             7          0       NaN       NaN   \n",
       "1        Customer No.     object        253484          0       NaN       NaN   \n",
       "2            District     object            36          0       NaN       NaN   \n",
       "3        JobCard Date     object          1643          0       NaN       NaN   \n",
       "4         KMs Reading      int64        159473          0  492314.0  77577.03   \n",
       "5                Make     object            28          0       NaN       NaN   \n",
       "6               Model     object           245       1525       NaN       NaN   \n",
       "7          Order Type     object             9          0       NaN       NaN   \n",
       "8               Plant     object           242          0       NaN       NaN   \n",
       "9  Total Amt Wtd Tax.    float64        258071          0  492314.0   4394.98   \n",
       "\n",
       "         std    min       25%       50%       75%         max  \n",
       "0        NaN    NaN       NaN       NaN       NaN         NaN  \n",
       "1        NaN    NaN       NaN       NaN       NaN         NaN  \n",
       "2        NaN    NaN       NaN       NaN       NaN         NaN  \n",
       "3        NaN    NaN       NaN       NaN       NaN         NaN  \n",
       "4  116888.17    0.0  34096.25  60078.50  93769.00  9999999.00  \n",
       "5        NaN    NaN       NaN       NaN       NaN         NaN  \n",
       "6        NaN    NaN       NaN       NaN       NaN         NaN  \n",
       "7        NaN    NaN       NaN       NaN       NaN         NaN  \n",
       "8        NaN    NaN       NaN       NaN       NaN         NaN  \n",
       "9   11080.90 -137.0    299.04   1452.82   4409.92   648203.49  "
      ]
     },
     "execution_count": 99,
     "metadata": {},
     "output_type": "execute_result"
    }
   ],
   "source": [
    "data_insights_report(final_inv_data_final) # This report gives as view of the data, its metrics and basic actionable Insights"
   ]
  },
  {
   "cell_type": "code",
   "execution_count": 100,
   "metadata": {},
   "outputs": [
    {
     "name": "stdout",
     "output_type": "stream",
     "text": [
      "<class 'pandas.core.frame.DataFrame'>\n",
      "RangeIndex: 492314 entries, 0 to 492313\n",
      "Data columns (total 10 columns):\n",
      "Cust Type             492314 non-null object\n",
      "Customer No.          492314 non-null object\n",
      "District              492314 non-null object\n",
      "JobCard Date          492314 non-null object\n",
      "KMs Reading           492314 non-null int64\n",
      "Make                  492314 non-null object\n",
      "Model                 490789 non-null object\n",
      "Order Type            492314 non-null object\n",
      "Plant                 492314 non-null object\n",
      "Total Amt Wtd Tax.    492314 non-null float64\n",
      "dtypes: float64(1), int64(1), object(8)\n",
      "memory usage: 37.6+ MB\n"
     ]
    }
   ],
   "source": [
    "final_inv_data_final.info()"
   ]
  },
  {
   "cell_type": "markdown",
   "metadata": {},
   "source": [
    "### Defining Required Functions"
   ]
  },
  {
   "cell_type": "code",
   "execution_count": 101,
   "metadata": {},
   "outputs": [],
   "source": [
    "'''\n",
    "Creating attributes of Recency, Frequency and Monetary value along with Mileage\n",
    "'''\n",
    "def RFM_feature(data): \n",
    "    rec = pd.DataFrame(data.groupby(['Customer No.','District','Model'])\n",
    "                       ['JobCard Date'].max()).reset_index()\n",
    "    rec['Recency'] = (rec['JobCard Date'].max() - rec['JobCard Date']).dt.days\n",
    "    rec.drop('JobCard Date',axis=1,inplace=True)\n",
    "\n",
    "    freq = pd.DataFrame(data.groupby(['Customer No.','District','Model'])\n",
    "                        ['JobCard Date'].count()).reset_index()\n",
    "    freq.columns = ['Customer No.','District','Model','Frequency']\n",
    "\n",
    "    rev = pd.DataFrame(data.groupby(['Customer No.','District','Model'])\n",
    "                       ['Total Amt Wtd Tax.'].sum()).reset_index()\n",
    "    rev.columns = ['Customer No.','District','Model','Revenue']\n",
    "\n",
    "    km = pd.DataFrame(data.groupby(['Customer No.','District','Model'])\n",
    "                      ['KMs Reading'].max()).reset_index()\n",
    "    km.columns = ['Customer No.','District','Model','Mileage']\n",
    "    \n",
    "    temp_df = pd.merge(rec,freq,on=['Customer No.','District','Model'])\n",
    "    temp_df = pd.merge(temp_df,km,on=['Customer No.','District','Model'])\n",
    "    temp_df = pd.merge(temp_df,rev,on=['Customer No.','District','Model'])\n",
    "    temp_df.head()\n",
    "    return temp_df"
   ]
  },
  {
   "cell_type": "code",
   "execution_count": 102,
   "metadata": {},
   "outputs": [],
   "source": [
    "'''\n",
    "To identify outliers in the dataset\n",
    "'''\n",
    "\n",
    "def get_outliers(self):\n",
    "        a_list = []\n",
    "        per_75 = np.percentile(self,75)\n",
    "        per_25 = np.percentile(self,25)\n",
    "        iqr = per_75-per_25\n",
    "        tot_75 = per_75 + (1.5*iqr)\n",
    "        tot_25 = per_25 - (1.5*iqr)\n",
    "        a_list1 = np.array(self).tolist()\n",
    "        for j in a_list1:\n",
    "            if j > tot_75:\n",
    "                a_list.append(j)\n",
    "            if j < tot_25:\n",
    "                a_list.append(j)\n",
    "        return a_list"
   ]
  },
  {
   "cell_type": "code",
   "execution_count": 103,
   "metadata": {},
   "outputs": [],
   "source": [
    "'''\n",
    "Visualization of outliers for boxplot and distribution plot and understanding the description\n",
    "'''\n",
    "\n",
    "def box_plot(data,variable):\n",
    "    boxplot = data.boxplot(column=[variable])\n",
    "    plt.show()\n",
    "    \n",
    "def dist_plot(data,variable):\n",
    "    sns.distplot(data[variable])\n",
    "    plt.axvline(data[variable].mean(), color='r', linestyle='--')\n",
    "    plt.axvline(data[variable].median(), color='g', linestyle='-')\n",
    "    plt.show()\n",
    "    print ('Mean for ',variable,' =',data[variable].mean())\n",
    "    print ('Median for ',variable,' =',data[variable].median())"
   ]
  },
  {
   "cell_type": "code",
   "execution_count": 104,
   "metadata": {},
   "outputs": [],
   "source": [
    "'''\n",
    "Treating for extreme outliers\n",
    "'''\n",
    "def outliers_treat(temp_df):\n",
    "    temp_df=temp_df[temp_df['Customer No.']!='E4981']\n",
    "    temp_df=temp_df[temp_df['Mileage']<150000]\n",
    "    temp_df=temp_df[temp_df['Revenue']<1000000]\n",
    "    return temp_df"
   ]
  },
  {
   "cell_type": "code",
   "execution_count": 105,
   "metadata": {},
   "outputs": [],
   "source": [
    "'''\n",
    "Feature engineering with Mileage Feture\n",
    "'''\n",
    "def mileage_avg(temp_df):\n",
    "    temp_df['Mileage']=150000 - temp_df['Mileage']\n",
    "    return temp_df"
   ]
  },
  {
   "cell_type": "code",
   "execution_count": 106,
   "metadata": {},
   "outputs": [],
   "source": [
    "'''\n",
    "Predicting cluster for each of the RFM Feature\n",
    "'''\n",
    "def predict_cluster(test_df,target_field):\n",
    "    km = KMeans(n_clusters=K)\n",
    "    km.fit(test_df[[target_field]])\n",
    "    test_df[target_field+'Cluster'] = km.predict(test_df[[target_field]])\n",
    "    display (test_df.head())\n",
    "    return test_df"
   ]
  },
  {
   "cell_type": "code",
   "execution_count": 107,
   "metadata": {},
   "outputs": [],
   "source": [
    "'''\n",
    "K-means assigns clusters as numbers but not in an ordered way. We can’t say cluster 0 is the worst and cluster 4 \n",
    "is the best. order_cluster() method does this for us\n",
    "'''\n",
    "def order_cluster(cluster_field_name,target_field_name,df,ascending):\n",
    "    new_cluster_field_name = 'new_' + cluster_field_name\n",
    "    df_new = df.groupby([cluster_field_name])[target_field_name].mean().reset_index()\n",
    "    df_new = df_new.sort_values(by=target_field_name,ascending=ascending).reset_index(drop=True)\n",
    "    df_new['index'] = df_new.index\n",
    "    df_final = pd.merge(df,df_new[[cluster_field_name,'index']], on=cluster_field_name)\n",
    "    df_final = df_final.drop([cluster_field_name],axis=1)\n",
    "    df_final = df_final.rename(columns={\"index\":cluster_field_name})\n",
    "    return df_final"
   ]
  },
  {
   "cell_type": "code",
   "execution_count": 108,
   "metadata": {},
   "outputs": [],
   "source": [
    "'''\n",
    "Function for getting statistical description for cluster\n",
    "'''\n",
    "def stat_desc(df,cluster_field,target_field):\n",
    "    tx_user = pd.DataFrame(df.groupby([cluster_field])[target_field].count()).reset_index()\n",
    "    tx_user.columns = [cluster_field,'count']\n",
    "    tx_user['mean'] = pd.DataFrame(df.groupby([cluster_field])[target_field].mean())\n",
    "    tx_user['std'] = pd.DataFrame(df.groupby([cluster_field])[target_field].std())\n",
    "    tx_user['min'] = pd.DataFrame(df.groupby([cluster_field])[target_field].min())\n",
    "    tx_user['25%'] = pd.DataFrame(df.groupby([cluster_field])[target_field].quantile(q=0.25))\n",
    "    tx_user['50%'] = pd.DataFrame(df.groupby([cluster_field])[target_field].quantile(q=0.5))\n",
    "    tx_user['75%'] = pd.DataFrame(df.groupby([cluster_field])[target_field].quantile(q=0.75))\n",
    "    tx_user['max'] = pd.DataFrame(df.groupby([cluster_field])[target_field].max())\n",
    "    display (tx_user)"
   ]
  },
  {
   "cell_type": "code",
   "execution_count": 109,
   "metadata": {},
   "outputs": [],
   "source": [
    "'''\n",
    "To treat right/positive skewness of the data, applying log transformation method for Frequency and Revenue columns\n",
    "'''\n",
    "def log_transform(model_df):    \n",
    "    model_df['Frequency'] = np.log(model_df['Frequency'])\n",
    "    model_df['Revenue'] = np.log(model_df['Revenue'] + 1)\n",
    "    return model_df"
   ]
  },
  {
   "cell_type": "code",
   "execution_count": 110,
   "metadata": {},
   "outputs": [],
   "source": [
    "'''\n",
    "Applying OHE to categorical fields\n",
    "'''\n",
    "def OHE(model_df):\n",
    "    model_df = pd.get_dummies(model_df,columns=['District','Model'],drop_first=False)\n",
    "    return model_df"
   ]
  },
  {
   "cell_type": "raw",
   "metadata": {},
   "source": [
    "The feature hashing scheme is another useful feature engineering scheme for dealing with large scale categorical features. In this scheme, a hash function is typically used with the number of encoded features pre-set (as a vector of pre-defined length) such that the hashed values of the features are used as indices in this pre-defined vector and values are updated accordingly. Since a hash function maps a large number of values into a small finite set of values, multiple different values might create the same hash which is termed as collisions. Typically, a signed hash function is used so that the sign of the value obtained from the hash is used as the sign of the value which is stored in the final feature vector at the appropriate index. This should ensure lesser collisions and lesser accumulation of error due to collisions.\n",
    "\n",
    "Thus even if we have over 1000 distinct categories in a feature and we set b=10 as the final feature vector size, the output feature set will still have only 10 features as compared to 1000 binary features if we used a one-hot encoding scheme."
   ]
  },
  {
   "cell_type": "code",
   "execution_count": 111,
   "metadata": {},
   "outputs": [],
   "source": [
    "'''\n",
    "Applying Feature Hashing Scheme to categorical fields\n",
    "'''\n",
    "def hash_feature(model_df):\n",
    "    fh1 = FeatureHasher(n_features=10, input_type='string')\n",
    "    fh2 = FeatureHasher(n_features=10, input_type='string')\n",
    "    hashed_features1 = fh1.fit_transform(model_df['District'])\n",
    "    hashed_features2 = fh2.fit_transform(model_df['Model'])\n",
    "    hashed_features1 = pd.DataFrame(hashed_features1.toarray())\n",
    "    hashed_features2 = pd.DataFrame(hashed_features2.toarray())\n",
    "    model_df = pd.merge(model_df,hashed_features1,left_index=True,right_index=True)\n",
    "    model_df = pd.merge(model_df,hashed_features2,left_index=True,right_index=True)\n",
    "    model_df.drop(['District','Model'],axis=1,inplace=True)\n",
    "    return model_df"
   ]
  },
  {
   "cell_type": "code",
   "execution_count": 112,
   "metadata": {},
   "outputs": [],
   "source": [
    "'''\n",
    "Splitting data into X and Y\n",
    "'''\n",
    "def split_data(model_df):\n",
    "    X = model_df.drop(['Customer No.','Revenue'],axis=1)\n",
    "    y = model_df['Revenue']\n",
    "    return (X,y)"
   ]
  },
  {
   "cell_type": "code",
   "execution_count": 113,
   "metadata": {},
   "outputs": [],
   "source": [
    "'''\n",
    "Fitting Random Forest Regressor Model\n",
    "'''\n",
    "def fit_data(X_train,y_train,model):\n",
    "    model.fit(X_train,y_train)\n",
    "    print ('Accuracy of the Model is = ',model.score(X_train,y_train))"
   ]
  },
  {
   "cell_type": "code",
   "execution_count": 114,
   "metadata": {},
   "outputs": [],
   "source": [
    "'''\n",
    "Predicting target variable using fitted model\n",
    "'''\n",
    "def predict_data(X_test,y_test,model):\n",
    "    pred = model.predict(X_test)\n",
    "    print ('Root Mean Square Error for the model is within plus/minus of ',rmse(pred,y_test))"
   ]
  },
  {
   "cell_type": "markdown",
   "metadata": {},
   "source": [
    "## Loading dataset with required fields"
   ]
  },
  {
   "cell_type": "code",
   "execution_count": 115,
   "metadata": {},
   "outputs": [
    {
     "data": {
      "text/html": [
       "<div>\n",
       "<style scoped>\n",
       "    .dataframe tbody tr th:only-of-type {\n",
       "        vertical-align: middle;\n",
       "    }\n",
       "\n",
       "    .dataframe tbody tr th {\n",
       "        vertical-align: top;\n",
       "    }\n",
       "\n",
       "    .dataframe thead th {\n",
       "        text-align: right;\n",
       "    }\n",
       "</style>\n",
       "<table border=\"1\" class=\"dataframe\">\n",
       "  <thead>\n",
       "    <tr style=\"text-align: right;\">\n",
       "      <th></th>\n",
       "      <th>Customer No.</th>\n",
       "      <th>District</th>\n",
       "      <th>Model</th>\n",
       "      <th>JobCard Date</th>\n",
       "      <th>KMs Reading</th>\n",
       "      <th>Order Type</th>\n",
       "      <th>Total Amt Wtd Tax.</th>\n",
       "    </tr>\n",
       "  </thead>\n",
       "  <tbody>\n",
       "    <tr>\n",
       "      <td>0</td>\n",
       "      <td>67849</td>\n",
       "      <td>Maharashtra</td>\n",
       "      <td>SPARK</td>\n",
       "      <td>2014-12-13</td>\n",
       "      <td>49317</td>\n",
       "      <td>Paid Service</td>\n",
       "      <td>4051.95</td>\n",
       "    </tr>\n",
       "    <tr>\n",
       "      <td>1</td>\n",
       "      <td>84419</td>\n",
       "      <td>Maharashtra</td>\n",
       "      <td>INDICA</td>\n",
       "      <td>2015-02-01</td>\n",
       "      <td>78584</td>\n",
       "      <td>SMC Value Package</td>\n",
       "      <td>1001.29</td>\n",
       "    </tr>\n",
       "    <tr>\n",
       "      <td>2</td>\n",
       "      <td>81055</td>\n",
       "      <td>Maharashtra</td>\n",
       "      <td>ZEN</td>\n",
       "      <td>2015-02-01</td>\n",
       "      <td>33985</td>\n",
       "      <td>Running Repairs</td>\n",
       "      <td>233.14</td>\n",
       "    </tr>\n",
       "    <tr>\n",
       "      <td>3</td>\n",
       "      <td>84419</td>\n",
       "      <td>Maharashtra</td>\n",
       "      <td>INDICA</td>\n",
       "      <td>2015-03-01</td>\n",
       "      <td>78584</td>\n",
       "      <td>SMC Redemption</td>\n",
       "      <td>0.00</td>\n",
       "    </tr>\n",
       "    <tr>\n",
       "      <td>4</td>\n",
       "      <td>18980</td>\n",
       "      <td>Maharashtra</td>\n",
       "      <td>SANTRO XING</td>\n",
       "      <td>2015-02-01</td>\n",
       "      <td>50057</td>\n",
       "      <td>Paid Service</td>\n",
       "      <td>2747.12</td>\n",
       "    </tr>\n",
       "  </tbody>\n",
       "</table>\n",
       "</div>"
      ],
      "text/plain": [
       "  Customer No.     District        Model JobCard Date  KMs Reading  \\\n",
       "0        67849  Maharashtra        SPARK   2014-12-13        49317   \n",
       "1        84419  Maharashtra       INDICA   2015-02-01        78584   \n",
       "2        81055  Maharashtra          ZEN   2015-02-01        33985   \n",
       "3        84419  Maharashtra       INDICA   2015-03-01        78584   \n",
       "4        18980  Maharashtra  SANTRO XING   2015-02-01        50057   \n",
       "\n",
       "          Order Type  Total Amt Wtd Tax.  \n",
       "0       Paid Service             4051.95  \n",
       "1  SMC Value Package             1001.29  \n",
       "2    Running Repairs              233.14  \n",
       "3     SMC Redemption                0.00  \n",
       "4       Paid Service             2747.12  "
      ]
     },
     "execution_count": 115,
     "metadata": {},
     "output_type": "execute_result"
    }
   ],
   "source": [
    "'''\n",
    "Loading the dataset with required fields from Invoice file dataset\n",
    "'''\n",
    "invoice_data = final_inv_data[['Customer No.','District','Model','JobCard Date',\n",
    "                               'KMs Reading','Order Type','Total Amt Wtd Tax.']].copy()\n",
    "invoice_data['Customer No.'] = invoice_data['Customer No.'].astype(str)\n",
    "invoice_data['District'] = invoice_data['District'].astype(str)\n",
    "invoice_data['Model'] = invoice_data['Model'].astype(str)\n",
    "invoice_data['JobCard Date'] = pd.to_datetime(invoice_data['JobCard Date'])\n",
    "invoice_data.head()"
   ]
  },
  {
   "cell_type": "code",
   "execution_count": 116,
   "metadata": {},
   "outputs": [],
   "source": [
    "    '''\n",
    "Removing data related to Accidents as that counts to adhoc type of expences which are really difficult to predict\n",
    "since lot of it's aspect depend on driver's atrribute, road attributes for which we do not have data to accomodate\n",
    "such features.\n",
    "'''\n",
    "final_invoice_data = invoice_data[invoice_data['Order Type']!='Accidental']"
   ]
  },
  {
   "cell_type": "code",
   "execution_count": 117,
   "metadata": {},
   "outputs": [
    {
     "name": "stderr",
     "output_type": "stream",
     "text": [
      "C:\\Users\\Priyanka\\Anaconda3\\lib\\site-packages\\ipykernel_launcher.py:4: FutureWarning: Comparing Series of datetimes with 'datetime.date'.  Currently, the\n",
      "'datetime.date' is coerced to a datetime. In the future pandas will\n",
      "not coerce, and a TypeError will be raised. To retain the current\n",
      "behavior, convert the 'datetime.date' to a datetime with\n",
      "'pd.Timestamp'.\n",
      "  after removing the cwd from sys.path.\n",
      "C:\\Users\\Priyanka\\Anaconda3\\lib\\site-packages\\ipykernel_launcher.py:5: FutureWarning: Comparing Series of datetimes with 'datetime.date'.  Currently, the\n",
      "'datetime.date' is coerced to a datetime. In the future pandas will\n",
      "not coerce, and a TypeError will be raised. To retain the current\n",
      "behavior, convert the 'datetime.date' to a datetime with\n",
      "'pd.Timestamp'.\n",
      "  \"\"\"\n",
      "C:\\Users\\Priyanka\\Anaconda3\\lib\\site-packages\\ipykernel_launcher.py:6: FutureWarning: Comparing Series of datetimes with 'datetime.date'.  Currently, the\n",
      "'datetime.date' is coerced to a datetime. In the future pandas will\n",
      "not coerce, and a TypeError will be raised. To retain the current\n",
      "behavior, convert the 'datetime.date' to a datetime with\n",
      "'pd.Timestamp'.\n",
      "  \n",
      "C:\\Users\\Priyanka\\Anaconda3\\lib\\site-packages\\ipykernel_launcher.py:7: FutureWarning: Comparing Series of datetimes with 'datetime.date'.  Currently, the\n",
      "'datetime.date' is coerced to a datetime. In the future pandas will\n",
      "not coerce, and a TypeError will be raised. To retain the current\n",
      "behavior, convert the 'datetime.date' to a datetime with\n",
      "'pd.Timestamp'.\n",
      "  import sys\n"
     ]
    }
   ],
   "source": [
    "'''\n",
    "Dividing dataset based on period of first 4 years (2012-2015) as training and last 1 year (2016) as test (unseen) data\n",
    "'''\n",
    "data_4yr = final_invoice_data[(final_invoice_data['JobCard Date'] > date(2012,1,1)) & \n",
    "                              (final_invoice_data['JobCard Date'] <= date(2015,12,31))].reset_index(drop=True)\n",
    "data_1yr = final_invoice_data[(final_invoice_data['JobCard Date'] > date(2016,1,1)) & \n",
    "                              (final_invoice_data['JobCard Date'] <= date(2016,12,31))].reset_index(drop=True)"
   ]
  },
  {
   "cell_type": "markdown",
   "metadata": {},
   "source": [
    "## Train the model for data between 2012 to 2015"
   ]
  },
  {
   "cell_type": "code",
   "execution_count": 118,
   "metadata": {},
   "outputs": [],
   "source": [
    "'''\n",
    "Creating attributes of Recency, Frequency and Monetary value\n",
    "'''\n",
    "temp_df = RFM_feature(data_4yr)"
   ]
  },
  {
   "cell_type": "code",
   "execution_count": 119,
   "metadata": {},
   "outputs": [
    {
     "name": "stdout",
     "output_type": "stream",
     "text": [
      "Total outliers in Column Recency  = 102\n",
      "Percentatge of outliers in Column Recency  = 0.07\n",
      "** ** ** ** ** ** ** ** ** ** ** ** ** ** ** ** **\n",
      "Total outliers in Column Frequency  = 16396\n",
      "Percentatge of outliers in Column Frequency  = 11.93\n",
      "** ** ** ** ** ** ** ** ** ** ** ** ** ** ** ** **\n",
      "Total outliers in Column Mileage  = 6548\n",
      "Percentatge of outliers in Column Mileage  = 4.77\n",
      "** ** ** ** ** ** ** ** ** ** ** ** ** ** ** ** **\n",
      "Total outliers in Column Revenue  = 13425\n",
      "Percentatge of outliers in Column Revenue  = 9.77\n",
      "** ** ** ** ** ** ** ** ** ** ** ** ** ** ** ** **\n"
     ]
    }
   ],
   "source": [
    "'''\n",
    "Finding outliers\n",
    "'''\n",
    "for i in temp_df[['Recency','Frequency','Mileage','Revenue']]:\n",
    "    outliers = get_outliers(temp_df[i])\n",
    "    print (\"Total outliers in Column\",temp_df[i].name,\" =\",len(outliers))\n",
    "    print (\"Percentatge of outliers in Column\",temp_df[i].name,\" =\",\n",
    "           round(((len(outliers)/temp_df.shape[0])*100),2))\n",
    "    print (\"** ** ** ** ** ** ** ** ** ** ** ** ** ** ** ** **\")"
   ]
  },
  {
   "cell_type": "code",
   "execution_count": 120,
   "metadata": {},
   "outputs": [],
   "source": [
    "'''\n",
    "Treating for extreme outliers\n",
    "'''\n",
    "temp_df = outliers_treat(temp_df)"
   ]
  },
  {
   "cell_type": "code",
   "execution_count": 121,
   "metadata": {},
   "outputs": [
    {
     "name": "stdout",
     "output_type": "stream",
     "text": [
      "Boxplot visualization for Recency\n"
     ]
    },
    {
     "data": {
      "image/png": "[encoded data removed]",
      "text/plain": [
       "<Figure size 432x288 with 1 Axes>"
      ]
     },
     "metadata": {
      "needs_background": "light"
     },
     "output_type": "display_data"
    },
    {
     "name": "stdout",
     "output_type": "stream",
     "text": [
      "Distribution plot visualization for Recency\n"
     ]
    },
    {
     "data": {
      "image/png": "[encoded data removed]",
      "text/plain": [
       "<Figure size 432x288 with 1 Axes>"
      ]
     },
     "metadata": {
      "needs_background": "light"
     },
     "output_type": "display_data"
    },
    {
     "name": "stdout",
     "output_type": "stream",
     "text": [
      "Mean for  Recency  = 424.0224429293763\n",
      "Median for  Recency  = 352.0\n",
      "** ** ** ** ** ** ** ** ** ** ** ** ** ** ** ** **\n",
      "Boxplot visualization for Frequency\n"
     ]
    },
    {
     "data": {
      "image/png": "[encoded data removed]",
      "text/plain": [
       "<Figure size 432x288 with 1 Axes>"
      ]
     },
     "metadata": {
      "needs_background": "light"
     },
     "output_type": "display_data"
    },
    {
     "name": "stdout",
     "output_type": "stream",
     "text": [
      "Distribution plot visualization for Frequency\n"
     ]
    },
    {
     "data": {
      "image/png": "[encoded data removed]",
      "text/plain": [
       "<Figure size 432x288 with 1 Axes>"
      ]
     },
     "metadata": {
      "needs_background": "light"
     },
     "output_type": "display_data"
    },
    {
     "name": "stdout",
     "output_type": "stream",
     "text": [
      "Mean for  Frequency  = 1.8906791856377834\n",
      "Median for  Frequency  = 1.0\n",
      "** ** ** ** ** ** ** ** ** ** ** ** ** ** ** ** **\n",
      "Boxplot visualization for Mileage\n"
     ]
    },
    {
     "data": {
      "image/png": "[encoded data removed]",
      "text/plain": [
       "<Figure size 432x288 with 1 Axes>"
      ]
     },
     "metadata": {
      "needs_background": "light"
     },
     "output_type": "display_data"
    },
    {
     "name": "stdout",
     "output_type": "stream",
     "text": [
      "Distribution plot visualization for Mileage\n"
     ]
    },
    {
     "data": {
      "image/png": "[encoded data removed]",
      "text/plain": [
       "<Figure size 432x288 with 1 Axes>"
      ]
     },
     "metadata": {
      "needs_background": "light"
     },
     "output_type": "display_data"
    },
    {
     "name": "stdout",
     "output_type": "stream",
     "text": [
      "Mean for  Mileage  = 58793.79330329409\n",
      "Median for  Mileage  = 54467.0\n",
      "** ** ** ** ** ** ** ** ** ** ** ** ** ** ** ** **\n",
      "Boxplot visualization for Revenue\n"
     ]
    },
    {
     "data": {
      "image/png": "[encoded data removed]",
      "text/plain": [
       "<Figure size 432x288 with 1 Axes>"
      ]
     },
     "metadata": {
      "needs_background": "light"
     },
     "output_type": "display_data"
    },
    {
     "name": "stdout",
     "output_type": "stream",
     "text": [
      "Distribution plot visualization for Revenue\n"
     ]
    },
    {
     "data": {
      "image/png": "[encoded data removed]",
      "text/plain": [
       "<Figure size 432x288 with 1 Axes>"
      ]
     },
     "metadata": {
      "needs_background": "light"
     },
     "output_type": "display_data"
    },
    {
     "name": "stdout",
     "output_type": "stream",
     "text": [
      "Mean for  Revenue  = 5859.620125347087\n",
      "Median for  Revenue  = 2364.55\n",
      "** ** ** ** ** ** ** ** ** ** ** ** ** ** ** ** **\n"
     ]
    }
   ],
   "source": [
    "'''\n",
    "Visualization of outliers with boxplot and distribution plot and understanding the description\n",
    "'''\n",
    "\n",
    "# For Recency\n",
    "print ('Boxplot visualization for Recency')\n",
    "box_plot(temp_df,'Recency')\n",
    "print ('Distribution plot visualization for Recency')\n",
    "dist_plot(temp_df,'Recency')\n",
    "print (\"** ** ** ** ** ** ** ** ** ** ** ** ** ** ** ** **\")\n",
    "\n",
    "# For Frequency\n",
    "print ('Boxplot visualization for Frequency')\n",
    "box_plot(temp_df,'Frequency')\n",
    "print ('Distribution plot visualization for Frequency')\n",
    "dist_plot(temp_df,'Frequency')\n",
    "print (\"** ** ** ** ** ** ** ** ** ** ** ** ** ** ** ** **\")\n",
    "\n",
    "# For Mileage\n",
    "print ('Boxplot visualization for Mileage')\n",
    "box_plot(temp_df,'Mileage')\n",
    "print ('Distribution plot visualization for Mileage')\n",
    "dist_plot(temp_df,'Mileage')\n",
    "print (\"** ** ** ** ** ** ** ** ** ** ** ** ** ** ** ** **\")\n",
    "\n",
    "# For Revenue\n",
    "print ('Boxplot visualization for Revenue')\n",
    "box_plot(temp_df,'Revenue')\n",
    "print ('Distribution plot visualization for Revenue')\n",
    "dist_plot(temp_df,'Revenue')\n",
    "print (\"** ** ** ** ** ** ** ** ** ** ** ** ** ** ** ** **\")"
   ]
  },
  {
   "cell_type": "code",
   "execution_count": 122,
   "metadata": {},
   "outputs": [],
   "source": [
    "'''\n",
    "Feature engineering with Mileage Feture\n",
    "'''\n",
    "temp_df = mileage_avg(temp_df)"
   ]
  },
  {
   "cell_type": "code",
   "execution_count": 123,
   "metadata": {},
   "outputs": [
    {
     "name": "stdout",
     "output_type": "stream",
     "text": [
      "m = 127167\n",
      "n = 7\n"
     ]
    }
   ],
   "source": [
    "'''\n",
    "Applying K Means Cluster to find out number of clusters \n",
    "So for convenience let’s start by choosing number of iterations as 100.\n",
    "'''\n",
    "m=temp_df.shape[0] #number of training examples.\n",
    "print (\"m =\",m)\n",
    "n=temp_df.shape[1] #number of features.\n",
    "print (\"n =\",n)\n",
    "n_iter=100"
   ]
  },
  {
   "cell_type": "code",
   "execution_count": 124,
   "metadata": {},
   "outputs": [
    {
     "data": {
      "image/png": "[encoded data removed]",
      "text/plain": [
       "<Figure size 432x288 with 1 Axes>"
      ]
     },
     "metadata": {
      "needs_background": "light"
     },
     "output_type": "display_data"
    }
   ],
   "source": [
    "'''\n",
    "Elbow method to decide on optimal number of clusters\n",
    "'''\n",
    "\n",
    "Sum_of_squared_distances = []\n",
    "K = range(1,6)\n",
    "for k in K:\n",
    "    km = KMeans(n_clusters=k, max_iter=n_iter)\n",
    "    km = km.fit(pd.DataFrame(temp_df['Recency']))\n",
    "    Sum_of_squared_distances.append(km.inertia_)\n",
    "    \n",
    "plt.plot(K, Sum_of_squared_distances, 'bx-')\n",
    "plt.xlabel('k')\n",
    "plt.ylabel('Sum_of_squared_distances')\n",
    "plt.title('Elbow Method For Optimal k')\n",
    "plt.show()"
   ]
  },
  {
   "cell_type": "code",
   "execution_count": 125,
   "metadata": {},
   "outputs": [],
   "source": [
    "'''\n",
    "Deciding on optimum value of K\n",
    "'''\n",
    "K = 4"
   ]
  },
  {
   "cell_type": "code",
   "execution_count": 126,
   "metadata": {},
   "outputs": [
    {
     "data": {
      "text/html": [
       "<div>\n",
       "<style scoped>\n",
       "    .dataframe tbody tr th:only-of-type {\n",
       "        vertical-align: middle;\n",
       "    }\n",
       "\n",
       "    .dataframe tbody tr th {\n",
       "        vertical-align: top;\n",
       "    }\n",
       "\n",
       "    .dataframe thead th {\n",
       "        text-align: right;\n",
       "    }\n",
       "</style>\n",
       "<table border=\"1\" class=\"dataframe\">\n",
       "  <thead>\n",
       "    <tr style=\"text-align: right;\">\n",
       "      <th></th>\n",
       "      <th>Customer No.</th>\n",
       "      <th>District</th>\n",
       "      <th>Model</th>\n",
       "      <th>Recency</th>\n",
       "      <th>Frequency</th>\n",
       "      <th>Mileage</th>\n",
       "      <th>Revenue</th>\n",
       "      <th>RecencyCluster</th>\n",
       "    </tr>\n",
       "  </thead>\n",
       "  <tbody>\n",
       "    <tr>\n",
       "      <td>0</td>\n",
       "      <td>1</td>\n",
       "      <td>Maharashtra</td>\n",
       "      <td>KIZASHI</td>\n",
       "      <td>1457</td>\n",
       "      <td>1</td>\n",
       "      <td>148788</td>\n",
       "      <td>0.00</td>\n",
       "      <td>2</td>\n",
       "    </tr>\n",
       "    <tr>\n",
       "      <td>1</td>\n",
       "      <td>1</td>\n",
       "      <td>Maharashtra</td>\n",
       "      <td>OMNI</td>\n",
       "      <td>1019</td>\n",
       "      <td>3</td>\n",
       "      <td>110025</td>\n",
       "      <td>0.00</td>\n",
       "      <td>2</td>\n",
       "    </tr>\n",
       "    <tr>\n",
       "      <td>2</td>\n",
       "      <td>10</td>\n",
       "      <td>Maharashtra</td>\n",
       "      <td>OPTRA</td>\n",
       "      <td>927</td>\n",
       "      <td>5</td>\n",
       "      <td>27176</td>\n",
       "      <td>11105.56</td>\n",
       "      <td>2</td>\n",
       "    </tr>\n",
       "    <tr>\n",
       "      <td>3</td>\n",
       "      <td>100</td>\n",
       "      <td>Maharashtra</td>\n",
       "      <td>CITY</td>\n",
       "      <td>1178</td>\n",
       "      <td>1</td>\n",
       "      <td>111424</td>\n",
       "      <td>6632.67</td>\n",
       "      <td>2</td>\n",
       "    </tr>\n",
       "    <tr>\n",
       "      <td>4</td>\n",
       "      <td>1000</td>\n",
       "      <td>Maharashtra</td>\n",
       "      <td>ALTO</td>\n",
       "      <td>443</td>\n",
       "      <td>6</td>\n",
       "      <td>130904</td>\n",
       "      <td>8813.44</td>\n",
       "      <td>3</td>\n",
       "    </tr>\n",
       "  </tbody>\n",
       "</table>\n",
       "</div>"
      ],
      "text/plain": [
       "  Customer No.     District    Model  Recency  Frequency  Mileage   Revenue  \\\n",
       "0            1  Maharashtra  KIZASHI     1457          1   148788      0.00   \n",
       "1            1  Maharashtra     OMNI     1019          3   110025      0.00   \n",
       "2           10  Maharashtra    OPTRA      927          5    27176  11105.56   \n",
       "3          100  Maharashtra     CITY     1178          1   111424   6632.67   \n",
       "4         1000  Maharashtra     ALTO      443          6   130904   8813.44   \n",
       "\n",
       "   RecencyCluster  \n",
       "0               2  \n",
       "1               2  \n",
       "2               2  \n",
       "3               2  \n",
       "4               3  "
      ]
     },
     "metadata": {},
     "output_type": "display_data"
    },
    {
     "data": {
      "text/html": [
       "<div>\n",
       "<style scoped>\n",
       "    .dataframe tbody tr th:only-of-type {\n",
       "        vertical-align: middle;\n",
       "    }\n",
       "\n",
       "    .dataframe tbody tr th {\n",
       "        vertical-align: top;\n",
       "    }\n",
       "\n",
       "    .dataframe thead th {\n",
       "        text-align: right;\n",
       "    }\n",
       "</style>\n",
       "<table border=\"1\" class=\"dataframe\">\n",
       "  <thead>\n",
       "    <tr style=\"text-align: right;\">\n",
       "      <th></th>\n",
       "      <th>RecencyCluster</th>\n",
       "      <th>count</th>\n",
       "      <th>mean</th>\n",
       "      <th>std</th>\n",
       "      <th>min</th>\n",
       "      <th>25%</th>\n",
       "      <th>50%</th>\n",
       "      <th>75%</th>\n",
       "      <th>max</th>\n",
       "    </tr>\n",
       "  </thead>\n",
       "  <tbody>\n",
       "    <tr>\n",
       "      <td>0</td>\n",
       "      <td>0</td>\n",
       "      <td>14223</td>\n",
       "      <td>1070.550095</td>\n",
       "      <td>140.939739</td>\n",
       "      <td>887</td>\n",
       "      <td>952.0</td>\n",
       "      <td>1039.0</td>\n",
       "      <td>1168.00</td>\n",
       "      <td>1457</td>\n",
       "    </tr>\n",
       "    <tr>\n",
       "      <td>1</td>\n",
       "      <td>1</td>\n",
       "      <td>29438</td>\n",
       "      <td>700.438990</td>\n",
       "      <td>96.490107</td>\n",
       "      <td>541</td>\n",
       "      <td>618.0</td>\n",
       "      <td>696.0</td>\n",
       "      <td>778.75</td>\n",
       "      <td>886</td>\n",
       "    </tr>\n",
       "    <tr>\n",
       "      <td>2</td>\n",
       "      <td>2</td>\n",
       "      <td>34074</td>\n",
       "      <td>380.386013</td>\n",
       "      <td>85.965116</td>\n",
       "      <td>242</td>\n",
       "      <td>304.0</td>\n",
       "      <td>378.5</td>\n",
       "      <td>453.75</td>\n",
       "      <td>540</td>\n",
       "    </tr>\n",
       "    <tr>\n",
       "      <td>3</td>\n",
       "      <td>3</td>\n",
       "      <td>49432</td>\n",
       "      <td>103.463991</td>\n",
       "      <td>70.890744</td>\n",
       "      <td>0</td>\n",
       "      <td>40.0</td>\n",
       "      <td>96.0</td>\n",
       "      <td>165.00</td>\n",
       "      <td>241</td>\n",
       "    </tr>\n",
       "  </tbody>\n",
       "</table>\n",
       "</div>"
      ],
      "text/plain": [
       "   RecencyCluster  count         mean         std  min    25%     50%  \\\n",
       "0               0  14223  1070.550095  140.939739  887  952.0  1039.0   \n",
       "1               1  29438   700.438990   96.490107  541  618.0   696.0   \n",
       "2               2  34074   380.386013   85.965116  242  304.0   378.5   \n",
       "3               3  49432   103.463991   70.890744    0   40.0    96.0   \n",
       "\n",
       "       75%   max  \n",
       "0  1168.00  1457  \n",
       "1   778.75   886  \n",
       "2   453.75   540  \n",
       "3   165.00   241  "
      ]
     },
     "metadata": {},
     "output_type": "display_data"
    }
   ],
   "source": [
    "'''\n",
    "Creating Recency Cluster\n",
    "'''\n",
    "temp_df = predict_cluster(temp_df,'Recency')\n",
    "temp_df = order_cluster('RecencyCluster','Recency',temp_df,False)\n",
    "stat_desc(temp_df,'RecencyCluster','Recency')"
   ]
  },
  {
   "cell_type": "code",
   "execution_count": 127,
   "metadata": {},
   "outputs": [
    {
     "data": {
      "text/html": [
       "<div>\n",
       "<style scoped>\n",
       "    .dataframe tbody tr th:only-of-type {\n",
       "        vertical-align: middle;\n",
       "    }\n",
       "\n",
       "    .dataframe tbody tr th {\n",
       "        vertical-align: top;\n",
       "    }\n",
       "\n",
       "    .dataframe thead th {\n",
       "        text-align: right;\n",
       "    }\n",
       "</style>\n",
       "<table border=\"1\" class=\"dataframe\">\n",
       "  <thead>\n",
       "    <tr style=\"text-align: right;\">\n",
       "      <th></th>\n",
       "      <th>Customer No.</th>\n",
       "      <th>District</th>\n",
       "      <th>Model</th>\n",
       "      <th>Recency</th>\n",
       "      <th>Frequency</th>\n",
       "      <th>Mileage</th>\n",
       "      <th>Revenue</th>\n",
       "      <th>RecencyCluster</th>\n",
       "      <th>FrequencyCluster</th>\n",
       "    </tr>\n",
       "  </thead>\n",
       "  <tbody>\n",
       "    <tr>\n",
       "      <td>0</td>\n",
       "      <td>1</td>\n",
       "      <td>Maharashtra</td>\n",
       "      <td>KIZASHI</td>\n",
       "      <td>1457</td>\n",
       "      <td>1</td>\n",
       "      <td>148788</td>\n",
       "      <td>0.00</td>\n",
       "      <td>0</td>\n",
       "      <td>0</td>\n",
       "    </tr>\n",
       "    <tr>\n",
       "      <td>1</td>\n",
       "      <td>1</td>\n",
       "      <td>Maharashtra</td>\n",
       "      <td>OMNI</td>\n",
       "      <td>1019</td>\n",
       "      <td>3</td>\n",
       "      <td>110025</td>\n",
       "      <td>0.00</td>\n",
       "      <td>0</td>\n",
       "      <td>3</td>\n",
       "    </tr>\n",
       "    <tr>\n",
       "      <td>2</td>\n",
       "      <td>10</td>\n",
       "      <td>Maharashtra</td>\n",
       "      <td>OPTRA</td>\n",
       "      <td>927</td>\n",
       "      <td>5</td>\n",
       "      <td>27176</td>\n",
       "      <td>11105.56</td>\n",
       "      <td>0</td>\n",
       "      <td>1</td>\n",
       "    </tr>\n",
       "    <tr>\n",
       "      <td>3</td>\n",
       "      <td>100</td>\n",
       "      <td>Maharashtra</td>\n",
       "      <td>CITY</td>\n",
       "      <td>1178</td>\n",
       "      <td>1</td>\n",
       "      <td>111424</td>\n",
       "      <td>6632.67</td>\n",
       "      <td>0</td>\n",
       "      <td>0</td>\n",
       "    </tr>\n",
       "    <tr>\n",
       "      <td>4</td>\n",
       "      <td>10037</td>\n",
       "      <td>Maharashtra</td>\n",
       "      <td>POLO</td>\n",
       "      <td>1039</td>\n",
       "      <td>1</td>\n",
       "      <td>98316</td>\n",
       "      <td>267.00</td>\n",
       "      <td>0</td>\n",
       "      <td>0</td>\n",
       "    </tr>\n",
       "  </tbody>\n",
       "</table>\n",
       "</div>"
      ],
      "text/plain": [
       "  Customer No.     District    Model  Recency  Frequency  Mileage   Revenue  \\\n",
       "0            1  Maharashtra  KIZASHI     1457          1   148788      0.00   \n",
       "1            1  Maharashtra     OMNI     1019          3   110025      0.00   \n",
       "2           10  Maharashtra    OPTRA      927          5    27176  11105.56   \n",
       "3          100  Maharashtra     CITY     1178          1   111424   6632.67   \n",
       "4        10037  Maharashtra     POLO     1039          1    98316    267.00   \n",
       "\n",
       "   RecencyCluster  FrequencyCluster  \n",
       "0               0                 0  \n",
       "1               0                 3  \n",
       "2               0                 1  \n",
       "3               0                 0  \n",
       "4               0                 0  "
      ]
     },
     "metadata": {},
     "output_type": "display_data"
    },
    {
     "data": {
      "text/html": [
       "<div>\n",
       "<style scoped>\n",
       "    .dataframe tbody tr th:only-of-type {\n",
       "        vertical-align: middle;\n",
       "    }\n",
       "\n",
       "    .dataframe tbody tr th {\n",
       "        vertical-align: top;\n",
       "    }\n",
       "\n",
       "    .dataframe thead th {\n",
       "        text-align: right;\n",
       "    }\n",
       "</style>\n",
       "<table border=\"1\" class=\"dataframe\">\n",
       "  <thead>\n",
       "    <tr style=\"text-align: right;\">\n",
       "      <th></th>\n",
       "      <th>FrequencyCluster</th>\n",
       "      <th>count</th>\n",
       "      <th>mean</th>\n",
       "      <th>std</th>\n",
       "      <th>min</th>\n",
       "      <th>25%</th>\n",
       "      <th>50%</th>\n",
       "      <th>75%</th>\n",
       "      <th>max</th>\n",
       "    </tr>\n",
       "  </thead>\n",
       "  <tbody>\n",
       "    <tr>\n",
       "      <td>0</td>\n",
       "      <td>0</td>\n",
       "      <td>79915</td>\n",
       "      <td>1.000000</td>\n",
       "      <td>0.000000</td>\n",
       "      <td>1</td>\n",
       "      <td>1.0</td>\n",
       "      <td>1.0</td>\n",
       "      <td>1.0</td>\n",
       "      <td>1</td>\n",
       "    </tr>\n",
       "    <tr>\n",
       "      <td>1</td>\n",
       "      <td>1</td>\n",
       "      <td>32554</td>\n",
       "      <td>2.321742</td>\n",
       "      <td>0.467152</td>\n",
       "      <td>2</td>\n",
       "      <td>2.0</td>\n",
       "      <td>2.0</td>\n",
       "      <td>3.0</td>\n",
       "      <td>3</td>\n",
       "    </tr>\n",
       "    <tr>\n",
       "      <td>2</td>\n",
       "      <td>2</td>\n",
       "      <td>12368</td>\n",
       "      <td>4.887613</td>\n",
       "      <td>0.998656</td>\n",
       "      <td>4</td>\n",
       "      <td>4.0</td>\n",
       "      <td>5.0</td>\n",
       "      <td>6.0</td>\n",
       "      <td>7</td>\n",
       "    </tr>\n",
       "    <tr>\n",
       "      <td>3</td>\n",
       "      <td>3</td>\n",
       "      <td>2330</td>\n",
       "      <td>10.508584</td>\n",
       "      <td>4.181495</td>\n",
       "      <td>8</td>\n",
       "      <td>8.0</td>\n",
       "      <td>9.0</td>\n",
       "      <td>11.0</td>\n",
       "      <td>86</td>\n",
       "    </tr>\n",
       "  </tbody>\n",
       "</table>\n",
       "</div>"
      ],
      "text/plain": [
       "   FrequencyCluster  count       mean       std  min  25%  50%   75%  max\n",
       "0                 0  79915   1.000000  0.000000    1  1.0  1.0   1.0    1\n",
       "1                 1  32554   2.321742  0.467152    2  2.0  2.0   3.0    3\n",
       "2                 2  12368   4.887613  0.998656    4  4.0  5.0   6.0    7\n",
       "3                 3   2330  10.508584  4.181495    8  8.0  9.0  11.0   86"
      ]
     },
     "metadata": {},
     "output_type": "display_data"
    }
   ],
   "source": [
    "'''\n",
    "Creating Frequency Cluster\n",
    "'''\n",
    "temp_df = predict_cluster(temp_df,'Frequency')\n",
    "temp_df = order_cluster('FrequencyCluster','Frequency',temp_df,True)\n",
    "stat_desc(temp_df,'FrequencyCluster','Frequency')"
   ]
  },
  {
   "cell_type": "code",
   "execution_count": 128,
   "metadata": {},
   "outputs": [
    {
     "data": {
      "text/html": [
       "<div>\n",
       "<style scoped>\n",
       "    .dataframe tbody tr th:only-of-type {\n",
       "        vertical-align: middle;\n",
       "    }\n",
       "\n",
       "    .dataframe tbody tr th {\n",
       "        vertical-align: top;\n",
       "    }\n",
       "\n",
       "    .dataframe thead th {\n",
       "        text-align: right;\n",
       "    }\n",
       "</style>\n",
       "<table border=\"1\" class=\"dataframe\">\n",
       "  <thead>\n",
       "    <tr style=\"text-align: right;\">\n",
       "      <th></th>\n",
       "      <th>Customer No.</th>\n",
       "      <th>District</th>\n",
       "      <th>Model</th>\n",
       "      <th>Recency</th>\n",
       "      <th>Frequency</th>\n",
       "      <th>Mileage</th>\n",
       "      <th>Revenue</th>\n",
       "      <th>RecencyCluster</th>\n",
       "      <th>FrequencyCluster</th>\n",
       "      <th>RevenueCluster</th>\n",
       "    </tr>\n",
       "  </thead>\n",
       "  <tbody>\n",
       "    <tr>\n",
       "      <td>0</td>\n",
       "      <td>1</td>\n",
       "      <td>Maharashtra</td>\n",
       "      <td>KIZASHI</td>\n",
       "      <td>1457</td>\n",
       "      <td>1</td>\n",
       "      <td>148788</td>\n",
       "      <td>0.00</td>\n",
       "      <td>0</td>\n",
       "      <td>0</td>\n",
       "      <td>0</td>\n",
       "    </tr>\n",
       "    <tr>\n",
       "      <td>1</td>\n",
       "      <td>100</td>\n",
       "      <td>Maharashtra</td>\n",
       "      <td>CITY</td>\n",
       "      <td>1178</td>\n",
       "      <td>1</td>\n",
       "      <td>111424</td>\n",
       "      <td>6632.67</td>\n",
       "      <td>0</td>\n",
       "      <td>0</td>\n",
       "      <td>0</td>\n",
       "    </tr>\n",
       "    <tr>\n",
       "      <td>2</td>\n",
       "      <td>10037</td>\n",
       "      <td>Maharashtra</td>\n",
       "      <td>POLO</td>\n",
       "      <td>1039</td>\n",
       "      <td>1</td>\n",
       "      <td>98316</td>\n",
       "      <td>267.00</td>\n",
       "      <td>0</td>\n",
       "      <td>0</td>\n",
       "      <td>0</td>\n",
       "    </tr>\n",
       "    <tr>\n",
       "      <td>3</td>\n",
       "      <td>1005</td>\n",
       "      <td>Maharashtra</td>\n",
       "      <td>INDICA</td>\n",
       "      <td>1151</td>\n",
       "      <td>1</td>\n",
       "      <td>83219</td>\n",
       "      <td>9773.65</td>\n",
       "      <td>0</td>\n",
       "      <td>0</td>\n",
       "      <td>0</td>\n",
       "    </tr>\n",
       "    <tr>\n",
       "      <td>4</td>\n",
       "      <td>1006</td>\n",
       "      <td>Maharashtra</td>\n",
       "      <td>IKON</td>\n",
       "      <td>1151</td>\n",
       "      <td>1</td>\n",
       "      <td>108086</td>\n",
       "      <td>4555.04</td>\n",
       "      <td>0</td>\n",
       "      <td>0</td>\n",
       "      <td>0</td>\n",
       "    </tr>\n",
       "  </tbody>\n",
       "</table>\n",
       "</div>"
      ],
      "text/plain": [
       "  Customer No.     District    Model  Recency  Frequency  Mileage  Revenue  \\\n",
       "0            1  Maharashtra  KIZASHI     1457          1   148788     0.00   \n",
       "1          100  Maharashtra     CITY     1178          1   111424  6632.67   \n",
       "2        10037  Maharashtra     POLO     1039          1    98316   267.00   \n",
       "3         1005  Maharashtra   INDICA     1151          1    83219  9773.65   \n",
       "4         1006  Maharashtra     IKON     1151          1   108086  4555.04   \n",
       "\n",
       "   RecencyCluster  FrequencyCluster  RevenueCluster  \n",
       "0               0                 0               0  \n",
       "1               0                 0               0  \n",
       "2               0                 0               0  \n",
       "3               0                 0               0  \n",
       "4               0                 0               0  "
      ]
     },
     "metadata": {},
     "output_type": "display_data"
    },
    {
     "data": {
      "text/html": [
       "<div>\n",
       "<style scoped>\n",
       "    .dataframe tbody tr th:only-of-type {\n",
       "        vertical-align: middle;\n",
       "    }\n",
       "\n",
       "    .dataframe tbody tr th {\n",
       "        vertical-align: top;\n",
       "    }\n",
       "\n",
       "    .dataframe thead th {\n",
       "        text-align: right;\n",
       "    }\n",
       "</style>\n",
       "<table border=\"1\" class=\"dataframe\">\n",
       "  <thead>\n",
       "    <tr style=\"text-align: right;\">\n",
       "      <th></th>\n",
       "      <th>RevenueCluster</th>\n",
       "      <th>count</th>\n",
       "      <th>mean</th>\n",
       "      <th>std</th>\n",
       "      <th>min</th>\n",
       "      <th>25%</th>\n",
       "      <th>50%</th>\n",
       "      <th>75%</th>\n",
       "      <th>max</th>\n",
       "    </tr>\n",
       "  </thead>\n",
       "  <tbody>\n",
       "    <tr>\n",
       "      <td>0</td>\n",
       "      <td>0</td>\n",
       "      <td>108841</td>\n",
       "      <td>2706.566228</td>\n",
       "      <td>2807.836285</td>\n",
       "      <td>0.00</td>\n",
       "      <td>445.000</td>\n",
       "      <td>1695.04</td>\n",
       "      <td>4166.9900</td>\n",
       "      <td>11215.98</td>\n",
       "    </tr>\n",
       "    <tr>\n",
       "      <td>1</td>\n",
       "      <td>1</td>\n",
       "      <td>16501</td>\n",
       "      <td>19756.643736</td>\n",
       "      <td>7520.276542</td>\n",
       "      <td>11217.09</td>\n",
       "      <td>13761.350</td>\n",
       "      <td>17424.21</td>\n",
       "      <td>23807.5500</td>\n",
       "      <td>42477.77</td>\n",
       "    </tr>\n",
       "    <tr>\n",
       "      <td>2</td>\n",
       "      <td>2</td>\n",
       "      <td>1807</td>\n",
       "      <td>65326.625362</td>\n",
       "      <td>25714.121645</td>\n",
       "      <td>42508.04</td>\n",
       "      <td>47676.115</td>\n",
       "      <td>56092.54</td>\n",
       "      <td>74238.3900</td>\n",
       "      <td>206609.16</td>\n",
       "    </tr>\n",
       "    <tr>\n",
       "      <td>3</td>\n",
       "      <td>3</td>\n",
       "      <td>18</td>\n",
       "      <td>361963.741111</td>\n",
       "      <td>171910.532101</td>\n",
       "      <td>217503.35</td>\n",
       "      <td>247846.305</td>\n",
       "      <td>299656.63</td>\n",
       "      <td>456634.0675</td>\n",
       "      <td>832669.42</td>\n",
       "    </tr>\n",
       "  </tbody>\n",
       "</table>\n",
       "</div>"
      ],
      "text/plain": [
       "   RevenueCluster   count           mean            std        min  \\\n",
       "0               0  108841    2706.566228    2807.836285       0.00   \n",
       "1               1   16501   19756.643736    7520.276542   11217.09   \n",
       "2               2    1807   65326.625362   25714.121645   42508.04   \n",
       "3               3      18  361963.741111  171910.532101  217503.35   \n",
       "\n",
       "          25%        50%          75%        max  \n",
       "0     445.000    1695.04    4166.9900   11215.98  \n",
       "1   13761.350   17424.21   23807.5500   42477.77  \n",
       "2   47676.115   56092.54   74238.3900  206609.16  \n",
       "3  247846.305  299656.63  456634.0675  832669.42  "
      ]
     },
     "metadata": {},
     "output_type": "display_data"
    }
   ],
   "source": [
    "'''\n",
    "Creating Revenue Cluster\n",
    "'''\n",
    "temp_df = predict_cluster(temp_df,'Revenue')\n",
    "temp_df = order_cluster('RevenueCluster','Revenue',temp_df,True)\n",
    "stat_desc(temp_df,'RevenueCluster','Revenue')"
   ]
  },
  {
   "cell_type": "code",
   "execution_count": 129,
   "metadata": {},
   "outputs": [
    {
     "data": {
      "text/html": [
       "<div>\n",
       "<style scoped>\n",
       "    .dataframe tbody tr th:only-of-type {\n",
       "        vertical-align: middle;\n",
       "    }\n",
       "\n",
       "    .dataframe tbody tr th {\n",
       "        vertical-align: top;\n",
       "    }\n",
       "\n",
       "    .dataframe thead th {\n",
       "        text-align: right;\n",
       "    }\n",
       "</style>\n",
       "<table border=\"1\" class=\"dataframe\">\n",
       "  <thead>\n",
       "    <tr style=\"text-align: right;\">\n",
       "      <th></th>\n",
       "      <th>Customer No.</th>\n",
       "      <th>District</th>\n",
       "      <th>Model</th>\n",
       "      <th>Recency</th>\n",
       "      <th>Frequency</th>\n",
       "      <th>Mileage</th>\n",
       "      <th>Revenue</th>\n",
       "      <th>RecencyCluster</th>\n",
       "      <th>FrequencyCluster</th>\n",
       "      <th>RevenueCluster</th>\n",
       "      <th>MileageCluster</th>\n",
       "    </tr>\n",
       "  </thead>\n",
       "  <tbody>\n",
       "    <tr>\n",
       "      <td>0</td>\n",
       "      <td>1</td>\n",
       "      <td>Maharashtra</td>\n",
       "      <td>KIZASHI</td>\n",
       "      <td>1457</td>\n",
       "      <td>1</td>\n",
       "      <td>148788</td>\n",
       "      <td>0.00</td>\n",
       "      <td>0</td>\n",
       "      <td>0</td>\n",
       "      <td>0</td>\n",
       "      <td>0</td>\n",
       "    </tr>\n",
       "    <tr>\n",
       "      <td>1</td>\n",
       "      <td>100</td>\n",
       "      <td>Maharashtra</td>\n",
       "      <td>CITY</td>\n",
       "      <td>1178</td>\n",
       "      <td>1</td>\n",
       "      <td>111424</td>\n",
       "      <td>6632.67</td>\n",
       "      <td>0</td>\n",
       "      <td>0</td>\n",
       "      <td>0</td>\n",
       "      <td>3</td>\n",
       "    </tr>\n",
       "    <tr>\n",
       "      <td>2</td>\n",
       "      <td>10037</td>\n",
       "      <td>Maharashtra</td>\n",
       "      <td>POLO</td>\n",
       "      <td>1039</td>\n",
       "      <td>1</td>\n",
       "      <td>98316</td>\n",
       "      <td>267.00</td>\n",
       "      <td>0</td>\n",
       "      <td>0</td>\n",
       "      <td>0</td>\n",
       "      <td>3</td>\n",
       "    </tr>\n",
       "    <tr>\n",
       "      <td>3</td>\n",
       "      <td>1005</td>\n",
       "      <td>Maharashtra</td>\n",
       "      <td>INDICA</td>\n",
       "      <td>1151</td>\n",
       "      <td>1</td>\n",
       "      <td>83219</td>\n",
       "      <td>9773.65</td>\n",
       "      <td>0</td>\n",
       "      <td>0</td>\n",
       "      <td>0</td>\n",
       "      <td>3</td>\n",
       "    </tr>\n",
       "    <tr>\n",
       "      <td>4</td>\n",
       "      <td>1006</td>\n",
       "      <td>Maharashtra</td>\n",
       "      <td>IKON</td>\n",
       "      <td>1151</td>\n",
       "      <td>1</td>\n",
       "      <td>108086</td>\n",
       "      <td>4555.04</td>\n",
       "      <td>0</td>\n",
       "      <td>0</td>\n",
       "      <td>0</td>\n",
       "      <td>3</td>\n",
       "    </tr>\n",
       "  </tbody>\n",
       "</table>\n",
       "</div>"
      ],
      "text/plain": [
       "  Customer No.     District    Model  Recency  Frequency  Mileage  Revenue  \\\n",
       "0            1  Maharashtra  KIZASHI     1457          1   148788     0.00   \n",
       "1          100  Maharashtra     CITY     1178          1   111424  6632.67   \n",
       "2        10037  Maharashtra     POLO     1039          1    98316   267.00   \n",
       "3         1005  Maharashtra   INDICA     1151          1    83219  9773.65   \n",
       "4         1006  Maharashtra     IKON     1151          1   108086  4555.04   \n",
       "\n",
       "   RecencyCluster  FrequencyCluster  RevenueCluster  MileageCluster  \n",
       "0               0                 0               0               0  \n",
       "1               0                 0               0               3  \n",
       "2               0                 0               0               3  \n",
       "3               0                 0               0               3  \n",
       "4               0                 0               0               3  "
      ]
     },
     "metadata": {},
     "output_type": "display_data"
    },
    {
     "data": {
      "text/html": [
       "<div>\n",
       "<style scoped>\n",
       "    .dataframe tbody tr th:only-of-type {\n",
       "        vertical-align: middle;\n",
       "    }\n",
       "\n",
       "    .dataframe tbody tr th {\n",
       "        vertical-align: top;\n",
       "    }\n",
       "\n",
       "    .dataframe thead th {\n",
       "        text-align: right;\n",
       "    }\n",
       "</style>\n",
       "<table border=\"1\" class=\"dataframe\">\n",
       "  <thead>\n",
       "    <tr style=\"text-align: right;\">\n",
       "      <th></th>\n",
       "      <th>MileageCluster</th>\n",
       "      <th>count</th>\n",
       "      <th>mean</th>\n",
       "      <th>std</th>\n",
       "      <th>min</th>\n",
       "      <th>25%</th>\n",
       "      <th>50%</th>\n",
       "      <th>75%</th>\n",
       "      <th>max</th>\n",
       "    </tr>\n",
       "  </thead>\n",
       "  <tbody>\n",
       "    <tr>\n",
       "      <td>0</td>\n",
       "      <td>0</td>\n",
       "      <td>15621</td>\n",
       "      <td>27989.738301</td>\n",
       "      <td>13213.401346</td>\n",
       "      <td>1</td>\n",
       "      <td>17680.00</td>\n",
       "      <td>29884.0</td>\n",
       "      <td>39402.0</td>\n",
       "      <td>47495</td>\n",
       "    </tr>\n",
       "    <tr>\n",
       "      <td>1</td>\n",
       "      <td>1</td>\n",
       "      <td>31467</td>\n",
       "      <td>67017.566149</td>\n",
       "      <td>9924.323112</td>\n",
       "      <td>47499</td>\n",
       "      <td>58903.00</td>\n",
       "      <td>67959.0</td>\n",
       "      <td>75611.0</td>\n",
       "      <td>82562</td>\n",
       "    </tr>\n",
       "    <tr>\n",
       "      <td>2</td>\n",
       "      <td>2</td>\n",
       "      <td>40730</td>\n",
       "      <td>98263.092929</td>\n",
       "      <td>8755.095680</td>\n",
       "      <td>82564</td>\n",
       "      <td>90725.25</td>\n",
       "      <td>98451.5</td>\n",
       "      <td>105802.0</td>\n",
       "      <td>113201</td>\n",
       "    </tr>\n",
       "    <tr>\n",
       "      <td>3</td>\n",
       "      <td>3</td>\n",
       "      <td>39349</td>\n",
       "      <td>128341.113014</td>\n",
       "      <td>9534.344022</td>\n",
       "      <td>113205</td>\n",
       "      <td>120248.00</td>\n",
       "      <td>127419.0</td>\n",
       "      <td>135673.0</td>\n",
       "      <td>150000</td>\n",
       "    </tr>\n",
       "  </tbody>\n",
       "</table>\n",
       "</div>"
      ],
      "text/plain": [
       "   MileageCluster  count           mean           std     min        25%  \\\n",
       "0               0  15621   27989.738301  13213.401346       1   17680.00   \n",
       "1               1  31467   67017.566149   9924.323112   47499   58903.00   \n",
       "2               2  40730   98263.092929   8755.095680   82564   90725.25   \n",
       "3               3  39349  128341.113014   9534.344022  113205  120248.00   \n",
       "\n",
       "        50%       75%     max  \n",
       "0   29884.0   39402.0   47495  \n",
       "1   67959.0   75611.0   82562  \n",
       "2   98451.5  105802.0  113201  \n",
       "3  127419.0  135673.0  150000  "
      ]
     },
     "metadata": {},
     "output_type": "display_data"
    }
   ],
   "source": [
    "'''\n",
    "Creating Mileage Cluster\n",
    "'''\n",
    "temp_df = predict_cluster(temp_df,'Mileage')\n",
    "temp_df = order_cluster('MileageCluster','Mileage',temp_df,True)\n",
    "stat_desc(temp_df,'MileageCluster','Mileage')\n"
   ]
  },
  {
   "cell_type": "code",
   "execution_count": 130,
   "metadata": {},
   "outputs": [
    {
     "data": {
      "text/html": [
       "<div>\n",
       "<style scoped>\n",
       "    .dataframe tbody tr th:only-of-type {\n",
       "        vertical-align: middle;\n",
       "    }\n",
       "\n",
       "    .dataframe tbody tr th {\n",
       "        vertical-align: top;\n",
       "    }\n",
       "\n",
       "    .dataframe thead th {\n",
       "        text-align: right;\n",
       "    }\n",
       "</style>\n",
       "<table border=\"1\" class=\"dataframe\">\n",
       "  <thead>\n",
       "    <tr style=\"text-align: right;\">\n",
       "      <th></th>\n",
       "      <th>Customer No.</th>\n",
       "      <th>District</th>\n",
       "      <th>Model</th>\n",
       "      <th>Recency</th>\n",
       "      <th>Frequency</th>\n",
       "      <th>Mileage</th>\n",
       "      <th>Revenue</th>\n",
       "      <th>RecencyCluster</th>\n",
       "      <th>FrequencyCluster</th>\n",
       "      <th>RevenueCluster</th>\n",
       "      <th>MileageCluster</th>\n",
       "      <th>OverallScore</th>\n",
       "    </tr>\n",
       "  </thead>\n",
       "  <tbody>\n",
       "    <tr>\n",
       "      <td>0</td>\n",
       "      <td>1</td>\n",
       "      <td>Maharashtra</td>\n",
       "      <td>KIZASHI</td>\n",
       "      <td>1457</td>\n",
       "      <td>1</td>\n",
       "      <td>148788</td>\n",
       "      <td>0.00</td>\n",
       "      <td>0</td>\n",
       "      <td>0</td>\n",
       "      <td>0</td>\n",
       "      <td>3</td>\n",
       "      <td>3</td>\n",
       "    </tr>\n",
       "    <tr>\n",
       "      <td>1</td>\n",
       "      <td>1009</td>\n",
       "      <td>Tamil Nadu</td>\n",
       "      <td>ALTO</td>\n",
       "      <td>1121</td>\n",
       "      <td>1</td>\n",
       "      <td>137230</td>\n",
       "      <td>598.96</td>\n",
       "      <td>0</td>\n",
       "      <td>0</td>\n",
       "      <td>0</td>\n",
       "      <td>3</td>\n",
       "      <td>3</td>\n",
       "    </tr>\n",
       "    <tr>\n",
       "      <td>2</td>\n",
       "      <td>1012</td>\n",
       "      <td>Tamil Nadu</td>\n",
       "      <td>SANTRO</td>\n",
       "      <td>1151</td>\n",
       "      <td>1</td>\n",
       "      <td>148501</td>\n",
       "      <td>991.48</td>\n",
       "      <td>0</td>\n",
       "      <td>0</td>\n",
       "      <td>0</td>\n",
       "      <td>3</td>\n",
       "      <td>3</td>\n",
       "    </tr>\n",
       "    <tr>\n",
       "      <td>3</td>\n",
       "      <td>1013</td>\n",
       "      <td>Tamil Nadu</td>\n",
       "      <td>SWIFT DZIRE</td>\n",
       "      <td>1151</td>\n",
       "      <td>1</td>\n",
       "      <td>132978</td>\n",
       "      <td>2399.52</td>\n",
       "      <td>0</td>\n",
       "      <td>0</td>\n",
       "      <td>0</td>\n",
       "      <td>3</td>\n",
       "      <td>3</td>\n",
       "    </tr>\n",
       "    <tr>\n",
       "      <td>4</td>\n",
       "      <td>10137</td>\n",
       "      <td>Karnataka</td>\n",
       "      <td>VISTA</td>\n",
       "      <td>1051</td>\n",
       "      <td>1</td>\n",
       "      <td>119804</td>\n",
       "      <td>3843.81</td>\n",
       "      <td>0</td>\n",
       "      <td>0</td>\n",
       "      <td>0</td>\n",
       "      <td>3</td>\n",
       "      <td>3</td>\n",
       "    </tr>\n",
       "  </tbody>\n",
       "</table>\n",
       "</div>"
      ],
      "text/plain": [
       "  Customer No.     District        Model  Recency  Frequency  Mileage  \\\n",
       "0            1  Maharashtra      KIZASHI     1457          1   148788   \n",
       "1         1009   Tamil Nadu         ALTO     1121          1   137230   \n",
       "2         1012   Tamil Nadu       SANTRO     1151          1   148501   \n",
       "3         1013   Tamil Nadu  SWIFT DZIRE     1151          1   132978   \n",
       "4        10137    Karnataka        VISTA     1051          1   119804   \n",
       "\n",
       "   Revenue  RecencyCluster  FrequencyCluster  RevenueCluster  MileageCluster  \\\n",
       "0     0.00               0                 0               0               3   \n",
       "1   598.96               0                 0               0               3   \n",
       "2   991.48               0                 0               0               3   \n",
       "3  2399.52               0                 0               0               3   \n",
       "4  3843.81               0                 0               0               3   \n",
       "\n",
       "   OverallScore  \n",
       "0             3  \n",
       "1             3  \n",
       "2             3  \n",
       "3             3  \n",
       "4             3  "
      ]
     },
     "metadata": {},
     "output_type": "display_data"
    },
    {
     "data": {
      "text/html": [
       "<div>\n",
       "<style scoped>\n",
       "    .dataframe tbody tr th:only-of-type {\n",
       "        vertical-align: middle;\n",
       "    }\n",
       "\n",
       "    .dataframe tbody tr th {\n",
       "        vertical-align: top;\n",
       "    }\n",
       "\n",
       "    .dataframe thead th {\n",
       "        text-align: right;\n",
       "    }\n",
       "</style>\n",
       "<table border=\"1\" class=\"dataframe\">\n",
       "  <thead>\n",
       "    <tr style=\"text-align: right;\">\n",
       "      <th></th>\n",
       "      <th>Recency</th>\n",
       "      <th>Frequency</th>\n",
       "      <th>Revenue</th>\n",
       "      <th>Mileage</th>\n",
       "    </tr>\n",
       "    <tr>\n",
       "      <th>OverallScore</th>\n",
       "      <th></th>\n",
       "      <th></th>\n",
       "      <th></th>\n",
       "      <th></th>\n",
       "    </tr>\n",
       "  </thead>\n",
       "  <tbody>\n",
       "    <tr>\n",
       "      <td>0</td>\n",
       "      <td>1074.134033</td>\n",
       "      <td>1.000000</td>\n",
       "      <td>2251.158613</td>\n",
       "      <td>29750.424242</td>\n",
       "    </tr>\n",
       "    <tr>\n",
       "      <td>1</td>\n",
       "      <td>921.672398</td>\n",
       "      <td>1.055346</td>\n",
       "      <td>2726.352784</td>\n",
       "      <td>49327.781677</td>\n",
       "    </tr>\n",
       "    <tr>\n",
       "      <td>2</td>\n",
       "      <td>778.028023</td>\n",
       "      <td>1.131898</td>\n",
       "      <td>3067.992471</td>\n",
       "      <td>66586.208787</td>\n",
       "    </tr>\n",
       "    <tr>\n",
       "      <td>3</td>\n",
       "      <td>619.213933</td>\n",
       "      <td>1.217695</td>\n",
       "      <td>3381.558282</td>\n",
       "      <td>79939.114400</td>\n",
       "    </tr>\n",
       "    <tr>\n",
       "      <td>4</td>\n",
       "      <td>447.850007</td>\n",
       "      <td>1.407680</td>\n",
       "      <td>4068.094916</td>\n",
       "      <td>90760.752145</td>\n",
       "    </tr>\n",
       "    <tr>\n",
       "      <td>5</td>\n",
       "      <td>300.040931</td>\n",
       "      <td>1.716911</td>\n",
       "      <td>5196.800390</td>\n",
       "      <td>99936.938133</td>\n",
       "    </tr>\n",
       "    <tr>\n",
       "      <td>6</td>\n",
       "      <td>190.710781</td>\n",
       "      <td>2.187035</td>\n",
       "      <td>6747.339620</td>\n",
       "      <td>109368.708137</td>\n",
       "    </tr>\n",
       "    <tr>\n",
       "      <td>7</td>\n",
       "      <td>166.173335</td>\n",
       "      <td>3.865879</td>\n",
       "      <td>13120.415668</td>\n",
       "      <td>104984.199250</td>\n",
       "    </tr>\n",
       "    <tr>\n",
       "      <td>8</td>\n",
       "      <td>129.080277</td>\n",
       "      <td>6.034652</td>\n",
       "      <td>21415.765212</td>\n",
       "      <td>101595.213688</td>\n",
       "    </tr>\n",
       "    <tr>\n",
       "      <td>9</td>\n",
       "      <td>109.119923</td>\n",
       "      <td>8.359768</td>\n",
       "      <td>32321.254623</td>\n",
       "      <td>102954.919729</td>\n",
       "    </tr>\n",
       "    <tr>\n",
       "      <td>10</td>\n",
       "      <td>97.810811</td>\n",
       "      <td>10.016216</td>\n",
       "      <td>45477.798000</td>\n",
       "      <td>111828.594595</td>\n",
       "    </tr>\n",
       "    <tr>\n",
       "      <td>11</td>\n",
       "      <td>77.888889</td>\n",
       "      <td>11.000000</td>\n",
       "      <td>59769.143333</td>\n",
       "      <td>121585.666667</td>\n",
       "    </tr>\n",
       "  </tbody>\n",
       "</table>\n",
       "</div>"
      ],
      "text/plain": [
       "                  Recency  Frequency       Revenue        Mileage\n",
       "OverallScore                                                     \n",
       "0             1074.134033   1.000000   2251.158613   29750.424242\n",
       "1              921.672398   1.055346   2726.352784   49327.781677\n",
       "2              778.028023   1.131898   3067.992471   66586.208787\n",
       "3              619.213933   1.217695   3381.558282   79939.114400\n",
       "4              447.850007   1.407680   4068.094916   90760.752145\n",
       "5              300.040931   1.716911   5196.800390   99936.938133\n",
       "6              190.710781   2.187035   6747.339620  109368.708137\n",
       "7              166.173335   3.865879  13120.415668  104984.199250\n",
       "8              129.080277   6.034652  21415.765212  101595.213688\n",
       "9              109.119923   8.359768  32321.254623  102954.919729\n",
       "10              97.810811  10.016216  45477.798000  111828.594595\n",
       "11              77.888889  11.000000  59769.143333  121585.666667"
      ]
     },
     "metadata": {},
     "output_type": "display_data"
    }
   ],
   "source": [
    "'''\n",
    "Calculating Overall score\n",
    "'''\n",
    "temp_df['OverallScore'] = temp_df['RecencyCluster'] + temp_df['FrequencyCluster'] + temp_df['RevenueCluster'] + temp_df['MileageCluster']\n",
    "display (temp_df.head())\n",
    "display(temp_df.groupby('OverallScore')['Recency','Frequency','Revenue','Mileage'].mean())"
   ]
  },
  {
   "cell_type": "code",
   "execution_count": 131,
   "metadata": {},
   "outputs": [],
   "source": [
    "temp_df.to_csv('Final_Clusters.csv')"
   ]
  },
  {
   "cell_type": "code",
   "execution_count": 132,
   "metadata": {},
   "outputs": [],
   "source": [
    "'''\n",
    "Selecting only required RFM features for model building\n",
    "'''\n",
    "model_df = temp_df.iloc[:,0:7]"
   ]
  },
  {
   "cell_type": "code",
   "execution_count": 133,
   "metadata": {},
   "outputs": [
    {
     "data": {
      "text/plain": [
       "Recency       0.696995\n",
       "Frequency     5.440516\n",
       "Mileage      -0.516503\n",
       "Revenue      11.826165\n",
       "dtype: float64"
      ]
     },
     "execution_count": 133,
     "metadata": {},
     "output_type": "execute_result"
    }
   ],
   "source": [
    "'''\n",
    "Understanding skewness of data before applying any skewness correction treatment\n",
    "'''\n",
    "model_df.skew(axis=0)"
   ]
  },
  {
   "cell_type": "code",
   "execution_count": 134,
   "metadata": {},
   "outputs": [],
   "source": [
    "'''\n",
    "To treat right/positive skewness of the data, applying log transformation method for Frequency and Revenue columns\n",
    "'''\n",
    "model_df = log_transform(model_df)"
   ]
  },
  {
   "cell_type": "code",
   "execution_count": 135,
   "metadata": {},
   "outputs": [
    {
     "data": {
      "text/plain": [
       "Recency      0.696995\n",
       "Frequency    1.341952\n",
       "Mileage     -0.516503\n",
       "Revenue     -1.572178\n",
       "dtype: float64"
      ]
     },
     "execution_count": 135,
     "metadata": {},
     "output_type": "execute_result"
    }
   ],
   "source": [
    "'''\n",
    "Skewness of data post applying correcting measures\n",
    "'''\n",
    "model_df.skew(axis=0)"
   ]
  },
  {
   "cell_type": "code",
   "execution_count": 136,
   "metadata": {},
   "outputs": [
    {
     "name": "stdout",
     "output_type": "stream",
     "text": [
      "Distribution plot visualization for Frequency\n"
     ]
    },
    {
     "data": {
      "image/png": "[encoded data removed]",
      "text/plain": [
       "<Figure size 432x288 with 1 Axes>"
      ]
     },
     "metadata": {
      "needs_background": "light"
     },
     "output_type": "display_data"
    },
    {
     "name": "stdout",
     "output_type": "stream",
     "text": [
      "Mean for  Frequency  = 0.4055542352338513\n",
      "Median for  Frequency  = 0.0\n",
      "** ** ** ** ** ** ** ** ** ** ** ** ** ** ** ** **\n",
      "Distribution plot visualization for Mileage\n"
     ]
    },
    {
     "data": {
      "image/png": "[encoded data removed]",
      "text/plain": [
       "<Figure size 432x288 with 1 Axes>"
      ]
     },
     "metadata": {
      "needs_background": "light"
     },
     "output_type": "display_data"
    },
    {
     "name": "stdout",
     "output_type": "stream",
     "text": [
      "Mean for  Mileage  = 91206.2066967059\n",
      "Median for  Mileage  = 95533.0\n",
      "** ** ** ** ** ** ** ** ** ** ** ** ** ** ** ** **\n",
      "Distribution plot visualization for Revenue\n"
     ]
    },
    {
     "data": {
      "image/png": "[encoded data removed]",
      "text/plain": [
       "<Figure size 432x288 with 1 Axes>"
      ]
     },
     "metadata": {
      "needs_background": "light"
     },
     "output_type": "display_data"
    },
    {
     "name": "stdout",
     "output_type": "stream",
     "text": [
      "Mean for  Revenue  = 7.327911513759914\n",
      "Median for  Revenue  = 7.768765832028116\n",
      "** ** ** ** ** ** ** ** ** ** ** ** ** ** ** ** **\n"
     ]
    }
   ],
   "source": [
    "'''\n",
    "Visualization of distribution plot post skewness correction\n",
    "'''\n",
    "\n",
    "# For Frequency\n",
    "print ('Distribution plot visualization for Frequency')\n",
    "dist_plot(model_df,'Frequency')\n",
    "print (\"** ** ** ** ** ** ** ** ** ** ** ** ** ** ** ** **\")\n",
    "\n",
    "# For Mileage\n",
    "print ('Distribution plot visualization for Mileage')\n",
    "dist_plot(model_df,'Mileage')\n",
    "print (\"** ** ** ** ** ** ** ** ** ** ** ** ** ** ** ** **\")\n",
    "\n",
    "# For Revenue\n",
    "print ('Distribution plot visualization for Revenue')\n",
    "dist_plot(model_df,'Revenue')\n",
    "print (\"** ** ** ** ** ** ** ** ** ** ** ** ** ** ** ** **\")"
   ]
  },
  {
   "cell_type": "code",
   "execution_count": 137,
   "metadata": {},
   "outputs": [
    {
     "data": {
      "text/plain": [
       "'\\nApplying OHE to categorical fields\\n'"
      ]
     },
     "execution_count": 137,
     "metadata": {},
     "output_type": "execute_result"
    }
   ],
   "source": [
    "'''\n",
    "Applying OHE to categorical fields\n",
    "'''\n",
    "#model_df = OHE(model_df)"
   ]
  },
  {
   "cell_type": "code",
   "execution_count": 138,
   "metadata": {},
   "outputs": [],
   "source": [
    "'''\n",
    "Applying Feature Hashing Scheme to categorical fields\n",
    "'''\n",
    "model_df = hash_feature(model_df)"
   ]
  },
  {
   "cell_type": "code",
   "execution_count": 139,
   "metadata": {},
   "outputs": [],
   "source": [
    "'''\n",
    "Splitting data into X and Y\n",
    "'''\n",
    "X,y = split_data(model_df)"
   ]
  },
  {
   "cell_type": "code",
   "execution_count": 140,
   "metadata": {},
   "outputs": [],
   "source": [
    "'''\n",
    "Creating Train and Test sample to fit and predict using Random Forest Regressor model\n",
    "'''\n",
    "X_train, X_test, y_train, y_test = train_test_split(X, y, test_size=0.3, random_state=7)"
   ]
  },
  {
   "cell_type": "code",
   "execution_count": 141,
   "metadata": {},
   "outputs": [],
   "source": [
    "'''\n",
    "Defining the model\n",
    "'''\n",
    "model = RandomForestRegressor(n_estimators=100)"
   ]
  },
  {
   "cell_type": "code",
   "execution_count": 142,
   "metadata": {},
   "outputs": [
    {
     "name": "stdout",
     "output_type": "stream",
     "text": [
      "Accuracy of the Model is =  0.8884279674172948\n"
     ]
    }
   ],
   "source": [
    "'''\n",
    "Fitting Random Forest Regressor Model\n",
    "'''\n",
    "fit_data(X_train,y_train,model)"
   ]
  },
  {
   "cell_type": "code",
   "execution_count": 143,
   "metadata": {},
   "outputs": [
    {
     "name": "stdout",
     "output_type": "stream",
     "text": [
      "Root Mean Square Error for the model is within plus/minus of  2.0200101438309503\n"
     ]
    }
   ],
   "source": [
    "'''\n",
    "Predicting target variable using fitted model\n",
    "'''\n",
    "predict_data(X_test,y_test,model)"
   ]
  },
  {
   "cell_type": "code",
   "execution_count": 144,
   "metadata": {},
   "outputs": [
    {
     "name": "stdout",
     "output_type": "stream",
     "text": [
      "Accuracy of the Model is =  0.21284690995886746\n"
     ]
    }
   ],
   "source": [
    " print ('Accuracy of the Model is = ',model.score(X_test,y_test))"
   ]
  },
  {
   "cell_type": "markdown",
   "metadata": {},
   "source": [
    "## Testing model on 2016 data"
   ]
  },
  {
   "cell_type": "code",
   "execution_count": 145,
   "metadata": {},
   "outputs": [],
   "source": [
    "'''\n",
    "Creating attributes of Recency, Frequency and Monetary value\n",
    "'''\n",
    "temp_df_test = RFM_feature(data_1yr)"
   ]
  },
  {
   "cell_type": "code",
   "execution_count": 146,
   "metadata": {},
   "outputs": [],
   "source": [
    "'''\n",
    "Treating for extreme outliers\n",
    "'''\n",
    "temp_df_test = outliers_treat(temp_df_test)"
   ]
  },
  {
   "cell_type": "code",
   "execution_count": 147,
   "metadata": {},
   "outputs": [],
   "source": [
    "'''\n",
    "Feature engineering with Mileage Feture\n",
    "'''\n",
    "temp_df_test = mileage_avg(temp_df_test)"
   ]
  },
  {
   "cell_type": "code",
   "execution_count": 148,
   "metadata": {},
   "outputs": [],
   "source": [
    "'''\n",
    "Selecting only required RFM features for model building\n",
    "'''\n",
    "model_df_test = temp_df_test.iloc[:,0:7]"
   ]
  },
  {
   "cell_type": "code",
   "execution_count": 149,
   "metadata": {},
   "outputs": [
    {
     "data": {
      "text/plain": [
       "Recency       0.336416\n",
       "Frequency    12.844593\n",
       "Mileage      -0.443139\n",
       "Revenue      18.271441\n",
       "dtype: float64"
      ]
     },
     "execution_count": 149,
     "metadata": {},
     "output_type": "execute_result"
    }
   ],
   "source": [
    "'''\n",
    "Understanding skewness of data before applying any skewness correction treatment\n",
    "'''\n",
    "model_df_test.skew(axis=0)"
   ]
  },
  {
   "cell_type": "code",
   "execution_count": 150,
   "metadata": {},
   "outputs": [],
   "source": [
    "'''\n",
    "To treat right/positive skewness of the data, applying log transformation method for Frequency and Revenue columns\n",
    "'''\n",
    "model_df_test = log_transform(model_df_test)"
   ]
  },
  {
   "cell_type": "code",
   "execution_count": 151,
   "metadata": {},
   "outputs": [
    {
     "data": {
      "text/plain": [
       "Recency      0.336416\n",
       "Frequency    1.801139\n",
       "Mileage     -0.443139\n",
       "Revenue     -1.326058\n",
       "dtype: float64"
      ]
     },
     "execution_count": 151,
     "metadata": {},
     "output_type": "execute_result"
    }
   ],
   "source": [
    "'''\n",
    "Skewness of data post applying correcting measures\n",
    "'''\n",
    "model_df_test.skew(axis=0)"
   ]
  },
  {
   "cell_type": "code",
   "execution_count": 152,
   "metadata": {},
   "outputs": [],
   "source": [
    "'''\n",
    "Applying Feature Hashing Scheme to categorical fields\n",
    "'''\n",
    "model_df_test = hash_feature(model_df_test)"
   ]
  },
  {
   "cell_type": "code",
   "execution_count": 153,
   "metadata": {},
   "outputs": [],
   "source": [
    "'''\n",
    "Splitting data into X and Y\n",
    "'''\n",
    "X,y = split_data(model_df_test)"
   ]
  },
  {
   "cell_type": "code",
   "execution_count": 154,
   "metadata": {},
   "outputs": [
    {
     "name": "stdout",
     "output_type": "stream",
     "text": [
      "Root Mean Square Error for the model is within plus/minus of  2.6071227305443214\n"
     ]
    }
   ],
   "source": [
    "'''\n",
    "Predicting target variable using fitted model\n",
    "'''\n",
    "predict_data(X,y,model)"
   ]
  },
  {
   "cell_type": "code",
   "execution_count": 155,
   "metadata": {},
   "outputs": [
    {
     "name": "stdout",
     "output_type": "stream",
     "text": [
      "Accuracy of the Model is =  -0.020265356542006785\n"
     ]
    }
   ],
   "source": [
    " print ('Accuracy of the Model is = ',model.score(X,y))"
   ]
  },
  {
   "cell_type": "code",
   "execution_count": null,
   "metadata": {},
   "outputs": [],
   "source": []
  }
 ],
 "metadata": {
  "kernelspec": {
   "display_name": "Python 3",
   "language": "python",
   "name": "python3"
  },
  "language_info": {
   "codemirror_mode": {
    "name": "ipython",
    "version": 3
   },
   "file_extension": ".py",
   "mimetype": "text/x-python",
   "name": "python",
   "nbconvert_exporter": "python",
   "pygments_lexer": "ipython3",
   "version": "3.7.4"
  }
 },
 "nbformat": 4,
 "nbformat_minor": 2
}
